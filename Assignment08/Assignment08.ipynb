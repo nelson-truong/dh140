{
 "cells": [
  {
   "cell_type": "code",
   "execution_count": 1,
   "id": "554ee103-1936-4903-89f3-d44f74087647",
   "metadata": {},
   "outputs": [
    {
     "name": "stderr",
     "output_type": "stream",
     "text": [
      "[nltk_data] Downloading package stopwords to /home/jovyan/nltk_data...\n",
      "[nltk_data]   Package stopwords is already up-to-date!\n"
     ]
    }
   ],
   "source": [
    "import requests\n",
    "from bs4 import BeautifulSoup\n",
    "import nltk\n",
    "from nltk.corpus import stopwords\n",
    "from string import punctuation\n",
    "nltk.download('stopwords')\n",
    "from nltk.tokenize import word_tokenize, sent_tokenize\n",
    "from nltk.probability import FreqDist\n",
    "from nltk.stem import WordNetLemmatizer\n",
    "import pandas as pd\n",
    "import numpy as np\n",
    "import matplotlib.pyplot as plt"
   ]
  },
  {
   "cell_type": "code",
   "execution_count": 2,
   "id": "22f5c244-d51a-41f8-8905-906b714e8d97",
   "metadata": {},
   "outputs": [],
   "source": [
    "# Grab the UTF-8 plain text for The Tempest from the Gutenberg Project\n",
    "html_doc = requests.get(\"https://www.gutenberg.org/files/23042/23042-h/23042-h.htm\").text\n",
    "\n",
    "# Feed into BeautifuLSoup to get a clean ASCII string\n",
    "soup = BeautifulSoup(html_doc, 'html.parser')\n",
    "plain_text = soup.get_text()\n",
    "\n",
    "# Tokenize into lowercase words\n",
    "words = word_tokenize(plain_text.lower())\n",
    "\n",
    "# Create a list of stop words\n",
    "stop_words = stopwords.words(\"english\") + list(punctuation)\n",
    "\n",
    "# Remove all unwanted words\n",
    "completewords = [w for w in words if w not in stop_words]\n",
    "\n",
    "# Remove all lowercase words\n",
    "#completeupper = [w for w in completewords if w[0].isupper()]\n",
    "#completeupper = [w for w in words if w[0].isupper()]\n",
    "\n",
    "# Find the frequency of all words\n",
    "freq = FreqDist(completewords)\n",
    "\n",
    "# Turn this list into a pandas dataframe\n",
    "wordlist = []\n",
    "wordfreq = []\n",
    "for i in sorted(freq, key=freq.get, reverse=True):\n",
    "    wordlist.append(i)\n",
    "    wordfreq.append(freq[i])\n",
    "    \n",
    "df = pd.DataFrame({'wordlist':wordlist, 'wordfreq':wordfreq})"
   ]
  },
  {
   "cell_type": "code",
   "execution_count": 3,
   "id": "11cc061b-d785-4d82-ab07-e1e1a8a6193c",
   "metadata": {},
   "outputs": [
    {
     "name": "stdout",
     "output_type": "stream",
     "text": [
      "thou\n",
      "pope\n",
      "pros\n",
      "thee\n",
      "f4\n",
      "thy\n",
      "f1\n",
      "f3\n",
      "f2\n",
      "project\n",
      "...\n",
      "sir\n",
      "conj\n",
      "seb\n",
      "1\n",
      "ff\n",
      "ant\n",
      "shall\n",
      "iâll\n",
      "ste\n",
      "work\n",
      "would\n",
      "mir\n",
      "gutenberg-tm\n",
      "ari\n",
      "2\n",
      "gon\n",
      "cal\n",
      "good\n",
      "come\n",
      "ariel\n",
      "rowe\n",
      "upon\n",
      "like\n",
      "scene\n",
      "enter\n",
      "one\n",
      "mine\n",
      "capell\n",
      "make\n",
      "trin\n",
      "hanmer\n",
      "note\n",
      "ii\n",
      "theobald\n",
      "alon\n",
      "us\n",
      "works\n",
      "must\n",
      "monster\n"
     ]
    }
   ],
   "source": [
    "for i in range(50):\n",
    "    print(df[\"wordlist\"][i])"
   ]
  },
  {
   "cell_type": "code",
   "execution_count": 4,
   "id": "fdce68b0-0a96-40e8-808d-486c6790e4e9",
   "metadata": {},
   "outputs": [],
   "source": [
    "words = [\"thou\", \"pope\", \"thee\", \"thy\", \"sir\", \"shall\", \"work\", \"would\", \"good\", \"come\", \"upon\", \"like\", \"one\", \"mine\", \"make\", \"us\", \n",
    "         \"works\", \"must\", \"monster\", ]"
   ]
  },
  {
   "cell_type": "code",
   "execution_count": 5,
   "id": "11399abf-d220-4110-a746-2de1a133eb3c",
   "metadata": {},
   "outputs": [],
   "source": [
    "import networkx as nx\n",
    "G = nx.Graph()\n",
    "G.add_nodes_from(words)\n",
    "sentences = sent_tokenize(plain_text.lower())\n",
    "for sentence in sentences:\n",
    "    word_dict = {}\n",
    "    for word in words:\n",
    "        word_dict[word] = 0\n",
    "    frag = word_tokenize(sentence)\n",
    "    for word in words:\n",
    "        if word in frag:\n",
    "            word_dict[word] = word_dict[word] + 1\n",
    "    for w1 in words:\n",
    "        if word_dict[w1] > 0:\n",
    "            for w2 in words:\n",
    "                if word_dict[w2] > 0 and w1 != w2:\n",
    "                    G.add_edge(w1, w2)"
   ]
  },
  {
   "cell_type": "code",
   "execution_count": 6,
   "id": "a558fcb3-bd95-4227-a469-5f642f078857",
   "metadata": {},
   "outputs": [
    {
     "data": {
      "text/plain": [
       "NodeView(('thou', 'pope', 'thee', 'thy', 'sir', 'shall', 'work', 'would', 'good', 'come', 'upon', 'like', 'one', 'mine', 'make', 'us', 'works', 'must', 'monster'))"
      ]
     },
     "execution_count": 6,
     "metadata": {},
     "output_type": "execute_result"
    }
   ],
   "source": [
    "G.nodes()"
   ]
  },
  {
   "cell_type": "code",
   "execution_count": 7,
   "id": "35e0d487-1019-4928-b96a-b60bb232c221",
   "metadata": {},
   "outputs": [
    {
     "data": {
      "text/plain": [
       "EdgeView([('thou', 'thy'), ('thou', 'good'), ('thou', 'thee'), ('thou', 'one'), ('thou', 'mine'), ('thou', 'must'), ('thou', 'upon'), ('thou', 'would'), ('thou', 'make'), ('thou', 'come'), ('thou', 'shall'), ('thou', 'work'), ('thou', 'like'), ('thou', 'works'), ('thou', 'monster'), ('thou', 'us'), ('thou', 'sir'), ('thou', 'pope'), ('pope', 'upon'), ('pope', 'mine'), ('pope', 'sir'), ('pope', 'one'), ('pope', 'thee'), ('pope', 'would'), ('pope', 'make'), ('pope', 'shall'), ('thee', 'thy'), ('thee', 'one'), ('thee', 'mine'), ('thee', 'come'), ('thee', 'upon'), ('thee', 'make'), ('thee', 'shall'), ('thee', 'work'), ('thee', 'like'), ('thee', 'must'), ('thee', 'works'), ('thee', 'would'), ('thee', 'monster'), ('thee', 'good'), ('thee', 'sir'), ('thy', 'one'), ('thy', 'mine'), ('thy', 'come'), ('thy', 'work'), ('thy', 'upon'), ('thy', 'make'), ('thy', 'shall'), ('thy', 'like'), ('thy', 'good'), ('thy', 'works'), ('thy', 'monster'), ('thy', 'must'), ('thy', 'sir'), ('thy', 'would'), ('thy', 'us'), ('sir', 'good'), ('sir', 'would'), ('sir', 'like'), ('sir', 'us'), ('sir', 'upon'), ('sir', 'shall'), ('sir', 'one'), ('sir', 'mine'), ('sir', 'must'), ('sir', 'make'), ('shall', 'work'), ('shall', 'make'), ('shall', 'come'), ('shall', 'one'), ('shall', 'monster'), ('shall', 'must'), ('shall', 'mine'), ('shall', 'upon'), ('shall', 'like'), ('work', 'make'), ('work', 'upon'), ('work', 'like'), ('work', 'must'), ('work', 'would'), ('work', 'mine'), ('work', 'works'), ('would', 'good'), ('would', 'one'), ('would', 'make'), ('would', 'must'), ('would', 'mine'), ('would', 'like'), ('would', 'monster'), ('would', 'us'), ('would', 'upon'), ('would', 'works'), ('good', 'make'), ('good', 'like'), ('good', 'upon'), ('good', 'us'), ('good', 'monster'), ('good', 'mine'), ('good', 'one'), ('good', 'must'), ('come', 'us'), ('come', 'upon'), ('come', 'make'), ('come', 'one'), ('come', 'monster'), ('upon', 'mine'), ('upon', 'make'), ('upon', 'one'), ('upon', 'us'), ('upon', 'like'), ('upon', 'works'), ('upon', 'must'), ('upon', 'monster'), ('like', 'one'), ('like', 'mine'), ('like', 'make'), ('like', 'us'), ('like', 'must'), ('one', 'mine'), ('one', 'make'), ('one', 'monster'), ('one', 'us'), ('one', 'works'), ('mine', 'us'), ('mine', 'make'), ('mine', 'must'), ('make', 'us'), ('make', 'must'), ('make', 'monster'), ('us', 'must'), ('us', 'monster'), ('works', 'must')])"
      ]
     },
     "execution_count": 7,
     "metadata": {},
     "output_type": "execute_result"
    }
   ],
   "source": [
    "G.edges()"
   ]
  },
  {
   "cell_type": "code",
   "execution_count": 8,
   "id": "4031b39d-f54e-45de-8015-ad9beb4aaa74",
   "metadata": {},
   "outputs": [
    {
     "data": {
      "text/html": [
       "\n",
       "    <div class=\"bk-root\">\n",
       "        <a href=\"https://bokeh.org\" target=\"_blank\" class=\"bk-logo bk-logo-small bk-logo-notebook\"></a>\n",
       "        <span id=\"1002\">Loading BokehJS ...</span>\n",
       "    </div>"
      ]
     },
     "metadata": {},
     "output_type": "display_data"
    },
    {
     "data": {
      "application/javascript": [
       "\n",
       "(function(root) {\n",
       "  function now() {\n",
       "    return new Date();\n",
       "  }\n",
       "\n",
       "  const force = true;\n",
       "\n",
       "  if (typeof root._bokeh_onload_callbacks === \"undefined\" || force === true) {\n",
       "    root._bokeh_onload_callbacks = [];\n",
       "    root._bokeh_is_loading = undefined;\n",
       "  }\n",
       "\n",
       "  const JS_MIME_TYPE = 'application/javascript';\n",
       "  const HTML_MIME_TYPE = 'text/html';\n",
       "  const EXEC_MIME_TYPE = 'application/vnd.bokehjs_exec.v0+json';\n",
       "  const CLASS_NAME = 'output_bokeh rendered_html';\n",
       "\n",
       "  /**\n",
       "   * Render data to the DOM node\n",
       "   */\n",
       "  function render(props, node) {\n",
       "    const script = document.createElement(\"script\");\n",
       "    node.appendChild(script);\n",
       "  }\n",
       "\n",
       "  /**\n",
       "   * Handle when an output is cleared or removed\n",
       "   */\n",
       "  function handleClearOutput(event, handle) {\n",
       "    const cell = handle.cell;\n",
       "\n",
       "    const id = cell.output_area._bokeh_element_id;\n",
       "    const server_id = cell.output_area._bokeh_server_id;\n",
       "    // Clean up Bokeh references\n",
       "    if (id != null && id in Bokeh.index) {\n",
       "      Bokeh.index[id].model.document.clear();\n",
       "      delete Bokeh.index[id];\n",
       "    }\n",
       "\n",
       "    if (server_id !== undefined) {\n",
       "      // Clean up Bokeh references\n",
       "      const cmd_clean = \"from bokeh.io.state import curstate; print(curstate().uuid_to_server['\" + server_id + \"'].get_sessions()[0].document.roots[0]._id)\";\n",
       "      cell.notebook.kernel.execute(cmd_clean, {\n",
       "        iopub: {\n",
       "          output: function(msg) {\n",
       "            const id = msg.content.text.trim();\n",
       "            if (id in Bokeh.index) {\n",
       "              Bokeh.index[id].model.document.clear();\n",
       "              delete Bokeh.index[id];\n",
       "            }\n",
       "          }\n",
       "        }\n",
       "      });\n",
       "      // Destroy server and session\n",
       "      const cmd_destroy = \"import bokeh.io.notebook as ion; ion.destroy_server('\" + server_id + \"')\";\n",
       "      cell.notebook.kernel.execute(cmd_destroy);\n",
       "    }\n",
       "  }\n",
       "\n",
       "  /**\n",
       "   * Handle when a new output is added\n",
       "   */\n",
       "  function handleAddOutput(event, handle) {\n",
       "    const output_area = handle.output_area;\n",
       "    const output = handle.output;\n",
       "\n",
       "    // limit handleAddOutput to display_data with EXEC_MIME_TYPE content only\n",
       "    if ((output.output_type != \"display_data\") || (!Object.prototype.hasOwnProperty.call(output.data, EXEC_MIME_TYPE))) {\n",
       "      return\n",
       "    }\n",
       "\n",
       "    const toinsert = output_area.element.find(\".\" + CLASS_NAME.split(' ')[0]);\n",
       "\n",
       "    if (output.metadata[EXEC_MIME_TYPE][\"id\"] !== undefined) {\n",
       "      toinsert[toinsert.length - 1].firstChild.textContent = output.data[JS_MIME_TYPE];\n",
       "      // store reference to embed id on output_area\n",
       "      output_area._bokeh_element_id = output.metadata[EXEC_MIME_TYPE][\"id\"];\n",
       "    }\n",
       "    if (output.metadata[EXEC_MIME_TYPE][\"server_id\"] !== undefined) {\n",
       "      const bk_div = document.createElement(\"div\");\n",
       "      bk_div.innerHTML = output.data[HTML_MIME_TYPE];\n",
       "      const script_attrs = bk_div.children[0].attributes;\n",
       "      for (let i = 0; i < script_attrs.length; i++) {\n",
       "        toinsert[toinsert.length - 1].firstChild.setAttribute(script_attrs[i].name, script_attrs[i].value);\n",
       "        toinsert[toinsert.length - 1].firstChild.textContent = bk_div.children[0].textContent\n",
       "      }\n",
       "      // store reference to server id on output_area\n",
       "      output_area._bokeh_server_id = output.metadata[EXEC_MIME_TYPE][\"server_id\"];\n",
       "    }\n",
       "  }\n",
       "\n",
       "  function register_renderer(events, OutputArea) {\n",
       "\n",
       "    function append_mime(data, metadata, element) {\n",
       "      // create a DOM node to render to\n",
       "      const toinsert = this.create_output_subarea(\n",
       "        metadata,\n",
       "        CLASS_NAME,\n",
       "        EXEC_MIME_TYPE\n",
       "      );\n",
       "      this.keyboard_manager.register_events(toinsert);\n",
       "      // Render to node\n",
       "      const props = {data: data, metadata: metadata[EXEC_MIME_TYPE]};\n",
       "      render(props, toinsert[toinsert.length - 1]);\n",
       "      element.append(toinsert);\n",
       "      return toinsert\n",
       "    }\n",
       "\n",
       "    /* Handle when an output is cleared or removed */\n",
       "    events.on('clear_output.CodeCell', handleClearOutput);\n",
       "    events.on('delete.Cell', handleClearOutput);\n",
       "\n",
       "    /* Handle when a new output is added */\n",
       "    events.on('output_added.OutputArea', handleAddOutput);\n",
       "\n",
       "    /**\n",
       "     * Register the mime type and append_mime function with output_area\n",
       "     */\n",
       "    OutputArea.prototype.register_mime_type(EXEC_MIME_TYPE, append_mime, {\n",
       "      /* Is output safe? */\n",
       "      safe: true,\n",
       "      /* Index of renderer in `output_area.display_order` */\n",
       "      index: 0\n",
       "    });\n",
       "  }\n",
       "\n",
       "  // register the mime type if in Jupyter Notebook environment and previously unregistered\n",
       "  if (root.Jupyter !== undefined) {\n",
       "    const events = require('base/js/events');\n",
       "    const OutputArea = require('notebook/js/outputarea').OutputArea;\n",
       "\n",
       "    if (OutputArea.prototype.mime_types().indexOf(EXEC_MIME_TYPE) == -1) {\n",
       "      register_renderer(events, OutputArea);\n",
       "    }\n",
       "  }\n",
       "\n",
       "  \n",
       "  if (typeof (root._bokeh_timeout) === \"undefined\" || force === true) {\n",
       "    root._bokeh_timeout = Date.now() + 5000;\n",
       "    root._bokeh_failed_load = false;\n",
       "  }\n",
       "\n",
       "  const NB_LOAD_WARNING = {'data': {'text/html':\n",
       "     \"<div style='background-color: #fdd'>\\n\"+\n",
       "     \"<p>\\n\"+\n",
       "     \"BokehJS does not appear to have successfully loaded. If loading BokehJS from CDN, this \\n\"+\n",
       "     \"may be due to a slow or bad network connection. Possible fixes:\\n\"+\n",
       "     \"</p>\\n\"+\n",
       "     \"<ul>\\n\"+\n",
       "     \"<li>re-rerun `output_notebook()` to attempt to load from CDN again, or</li>\\n\"+\n",
       "     \"<li>use INLINE resources instead, as so:</li>\\n\"+\n",
       "     \"</ul>\\n\"+\n",
       "     \"<code>\\n\"+\n",
       "     \"from bokeh.resources import INLINE\\n\"+\n",
       "     \"output_notebook(resources=INLINE)\\n\"+\n",
       "     \"</code>\\n\"+\n",
       "     \"</div>\"}};\n",
       "\n",
       "  function display_loaded() {\n",
       "    const el = document.getElementById(\"1002\");\n",
       "    if (el != null) {\n",
       "      el.textContent = \"BokehJS is loading...\";\n",
       "    }\n",
       "    if (root.Bokeh !== undefined) {\n",
       "      if (el != null) {\n",
       "        el.textContent = \"BokehJS \" + root.Bokeh.version + \" successfully loaded.\";\n",
       "      }\n",
       "    } else if (Date.now() < root._bokeh_timeout) {\n",
       "      setTimeout(display_loaded, 100)\n",
       "    }\n",
       "  }\n",
       "\n",
       "\n",
       "  function run_callbacks() {\n",
       "    try {\n",
       "      root._bokeh_onload_callbacks.forEach(function(callback) {\n",
       "        if (callback != null)\n",
       "          callback();\n",
       "      });\n",
       "    } finally {\n",
       "      delete root._bokeh_onload_callbacks\n",
       "    }\n",
       "    console.debug(\"Bokeh: all callbacks have finished\");\n",
       "  }\n",
       "\n",
       "  function load_libs(css_urls, js_urls, callback) {\n",
       "    if (css_urls == null) css_urls = [];\n",
       "    if (js_urls == null) js_urls = [];\n",
       "\n",
       "    root._bokeh_onload_callbacks.push(callback);\n",
       "    if (root._bokeh_is_loading > 0) {\n",
       "      console.debug(\"Bokeh: BokehJS is being loaded, scheduling callback at\", now());\n",
       "      return null;\n",
       "    }\n",
       "    if (js_urls == null || js_urls.length === 0) {\n",
       "      run_callbacks();\n",
       "      return null;\n",
       "    }\n",
       "    console.debug(\"Bokeh: BokehJS not loaded, scheduling load and callback at\", now());\n",
       "    root._bokeh_is_loading = css_urls.length + js_urls.length;\n",
       "\n",
       "    function on_load() {\n",
       "      root._bokeh_is_loading--;\n",
       "      if (root._bokeh_is_loading === 0) {\n",
       "        console.debug(\"Bokeh: all BokehJS libraries/stylesheets loaded\");\n",
       "        run_callbacks()\n",
       "      }\n",
       "    }\n",
       "\n",
       "    function on_error(url) {\n",
       "      console.error(\"failed to load \" + url);\n",
       "    }\n",
       "\n",
       "    for (let i = 0; i < css_urls.length; i++) {\n",
       "      const url = css_urls[i];\n",
       "      const element = document.createElement(\"link\");\n",
       "      element.onload = on_load;\n",
       "      element.onerror = on_error.bind(null, url);\n",
       "      element.rel = \"stylesheet\";\n",
       "      element.type = \"text/css\";\n",
       "      element.href = url;\n",
       "      console.debug(\"Bokeh: injecting link tag for BokehJS stylesheet: \", url);\n",
       "      document.body.appendChild(element);\n",
       "    }\n",
       "\n",
       "    for (let i = 0; i < js_urls.length; i++) {\n",
       "      const url = js_urls[i];\n",
       "      const element = document.createElement('script');\n",
       "      element.onload = on_load;\n",
       "      element.onerror = on_error.bind(null, url);\n",
       "      element.async = false;\n",
       "      element.src = url;\n",
       "      console.debug(\"Bokeh: injecting script tag for BokehJS library: \", url);\n",
       "      document.head.appendChild(element);\n",
       "    }\n",
       "  };\n",
       "\n",
       "  function inject_raw_css(css) {\n",
       "    const element = document.createElement(\"style\");\n",
       "    element.appendChild(document.createTextNode(css));\n",
       "    document.body.appendChild(element);\n",
       "  }\n",
       "\n",
       "  \n",
       "  const js_urls = [\"https://cdn.bokeh.org/bokeh/release/bokeh-2.4.0.min.js\", \"https://cdn.bokeh.org/bokeh/release/bokeh-gl-2.4.0.min.js\", \"https://cdn.bokeh.org/bokeh/release/bokeh-widgets-2.4.0.min.js\", \"https://cdn.bokeh.org/bokeh/release/bokeh-tables-2.4.0.min.js\", \"https://cdn.bokeh.org/bokeh/release/bokeh-mathjax-2.4.0.min.js\"];\n",
       "  const css_urls = [];\n",
       "  \n",
       "\n",
       "  const inline_js = [\n",
       "    function(Bokeh) {\n",
       "      Bokeh.set_log_level(\"info\");\n",
       "    },\n",
       "    function(Bokeh) {\n",
       "    \n",
       "    \n",
       "    }\n",
       "  ];\n",
       "\n",
       "  function run_inline_js() {\n",
       "    \n",
       "    if (root.Bokeh !== undefined || force === true) {\n",
       "      \n",
       "    for (let i = 0; i < inline_js.length; i++) {\n",
       "      inline_js[i].call(root, root.Bokeh);\n",
       "    }\n",
       "    if (force === true) {\n",
       "        display_loaded();\n",
       "      }} else if (Date.now() < root._bokeh_timeout) {\n",
       "      setTimeout(run_inline_js, 100);\n",
       "    } else if (!root._bokeh_failed_load) {\n",
       "      console.log(\"Bokeh: BokehJS failed to load within specified timeout.\");\n",
       "      root._bokeh_failed_load = true;\n",
       "    } else if (force !== true) {\n",
       "      const cell = $(document.getElementById(\"1002\")).parents('.cell').data().cell;\n",
       "      cell.output_area.append_execute_result(NB_LOAD_WARNING)\n",
       "    }\n",
       "\n",
       "  }\n",
       "\n",
       "  if (root._bokeh_is_loading === 0) {\n",
       "    console.debug(\"Bokeh: BokehJS loaded, going straight to plotting\");\n",
       "    run_inline_js();\n",
       "  } else {\n",
       "    load_libs(css_urls, js_urls, function() {\n",
       "      console.debug(\"Bokeh: BokehJS plotting callback run at\", now());\n",
       "      run_inline_js();\n",
       "    });\n",
       "  }\n",
       "}(window));"
      ],
      "application/vnd.bokehjs_load.v0+json": "\n(function(root) {\n  function now() {\n    return new Date();\n  }\n\n  const force = true;\n\n  if (typeof root._bokeh_onload_callbacks === \"undefined\" || force === true) {\n    root._bokeh_onload_callbacks = [];\n    root._bokeh_is_loading = undefined;\n  }\n\n  \n\n  \n  if (typeof (root._bokeh_timeout) === \"undefined\" || force === true) {\n    root._bokeh_timeout = Date.now() + 5000;\n    root._bokeh_failed_load = false;\n  }\n\n  const NB_LOAD_WARNING = {'data': {'text/html':\n     \"<div style='background-color: #fdd'>\\n\"+\n     \"<p>\\n\"+\n     \"BokehJS does not appear to have successfully loaded. If loading BokehJS from CDN, this \\n\"+\n     \"may be due to a slow or bad network connection. Possible fixes:\\n\"+\n     \"</p>\\n\"+\n     \"<ul>\\n\"+\n     \"<li>re-rerun `output_notebook()` to attempt to load from CDN again, or</li>\\n\"+\n     \"<li>use INLINE resources instead, as so:</li>\\n\"+\n     \"</ul>\\n\"+\n     \"<code>\\n\"+\n     \"from bokeh.resources import INLINE\\n\"+\n     \"output_notebook(resources=INLINE)\\n\"+\n     \"</code>\\n\"+\n     \"</div>\"}};\n\n  function display_loaded() {\n    const el = document.getElementById(\"1002\");\n    if (el != null) {\n      el.textContent = \"BokehJS is loading...\";\n    }\n    if (root.Bokeh !== undefined) {\n      if (el != null) {\n        el.textContent = \"BokehJS \" + root.Bokeh.version + \" successfully loaded.\";\n      }\n    } else if (Date.now() < root._bokeh_timeout) {\n      setTimeout(display_loaded, 100)\n    }\n  }\n\n\n  function run_callbacks() {\n    try {\n      root._bokeh_onload_callbacks.forEach(function(callback) {\n        if (callback != null)\n          callback();\n      });\n    } finally {\n      delete root._bokeh_onload_callbacks\n    }\n    console.debug(\"Bokeh: all callbacks have finished\");\n  }\n\n  function load_libs(css_urls, js_urls, callback) {\n    if (css_urls == null) css_urls = [];\n    if (js_urls == null) js_urls = [];\n\n    root._bokeh_onload_callbacks.push(callback);\n    if (root._bokeh_is_loading > 0) {\n      console.debug(\"Bokeh: BokehJS is being loaded, scheduling callback at\", now());\n      return null;\n    }\n    if (js_urls == null || js_urls.length === 0) {\n      run_callbacks();\n      return null;\n    }\n    console.debug(\"Bokeh: BokehJS not loaded, scheduling load and callback at\", now());\n    root._bokeh_is_loading = css_urls.length + js_urls.length;\n\n    function on_load() {\n      root._bokeh_is_loading--;\n      if (root._bokeh_is_loading === 0) {\n        console.debug(\"Bokeh: all BokehJS libraries/stylesheets loaded\");\n        run_callbacks()\n      }\n    }\n\n    function on_error(url) {\n      console.error(\"failed to load \" + url);\n    }\n\n    for (let i = 0; i < css_urls.length; i++) {\n      const url = css_urls[i];\n      const element = document.createElement(\"link\");\n      element.onload = on_load;\n      element.onerror = on_error.bind(null, url);\n      element.rel = \"stylesheet\";\n      element.type = \"text/css\";\n      element.href = url;\n      console.debug(\"Bokeh: injecting link tag for BokehJS stylesheet: \", url);\n      document.body.appendChild(element);\n    }\n\n    for (let i = 0; i < js_urls.length; i++) {\n      const url = js_urls[i];\n      const element = document.createElement('script');\n      element.onload = on_load;\n      element.onerror = on_error.bind(null, url);\n      element.async = false;\n      element.src = url;\n      console.debug(\"Bokeh: injecting script tag for BokehJS library: \", url);\n      document.head.appendChild(element);\n    }\n  };\n\n  function inject_raw_css(css) {\n    const element = document.createElement(\"style\");\n    element.appendChild(document.createTextNode(css));\n    document.body.appendChild(element);\n  }\n\n  \n  const js_urls = [\"https://cdn.bokeh.org/bokeh/release/bokeh-2.4.0.min.js\", \"https://cdn.bokeh.org/bokeh/release/bokeh-gl-2.4.0.min.js\", \"https://cdn.bokeh.org/bokeh/release/bokeh-widgets-2.4.0.min.js\", \"https://cdn.bokeh.org/bokeh/release/bokeh-tables-2.4.0.min.js\", \"https://cdn.bokeh.org/bokeh/release/bokeh-mathjax-2.4.0.min.js\"];\n  const css_urls = [];\n  \n\n  const inline_js = [\n    function(Bokeh) {\n      Bokeh.set_log_level(\"info\");\n    },\n    function(Bokeh) {\n    \n    \n    }\n  ];\n\n  function run_inline_js() {\n    \n    if (root.Bokeh !== undefined || force === true) {\n      \n    for (let i = 0; i < inline_js.length; i++) {\n      inline_js[i].call(root, root.Bokeh);\n    }\n    if (force === true) {\n        display_loaded();\n      }} else if (Date.now() < root._bokeh_timeout) {\n      setTimeout(run_inline_js, 100);\n    } else if (!root._bokeh_failed_load) {\n      console.log(\"Bokeh: BokehJS failed to load within specified timeout.\");\n      root._bokeh_failed_load = true;\n    } else if (force !== true) {\n      const cell = $(document.getElementById(\"1002\")).parents('.cell').data().cell;\n      cell.output_area.append_execute_result(NB_LOAD_WARNING)\n    }\n\n  }\n\n  if (root._bokeh_is_loading === 0) {\n    console.debug(\"Bokeh: BokehJS loaded, going straight to plotting\");\n    run_inline_js();\n  } else {\n    load_libs(css_urls, js_urls, function() {\n      console.debug(\"Bokeh: BokehJS plotting callback run at\", now());\n      run_inline_js();\n    });\n  }\n}(window));"
     },
     "metadata": {},
     "output_type": "display_data"
    }
   ],
   "source": [
    "from bokeh.io import output_notebook, show, save\n",
    "from bokeh.models import Range1d, Circle, ColumnDataSource, MultiLine, LabelSet\n",
    "from bokeh.plotting import figure\n",
    "from bokeh.plotting import from_networkx\n",
    "output_notebook()"
   ]
  },
  {
   "cell_type": "code",
   "execution_count": 9,
   "id": "c188ad0c-4086-45b9-a03b-a4c5bca4af4d",
   "metadata": {},
   "outputs": [
    {
     "data": {
      "text/html": [
       "\n",
       "\n",
       "\n",
       "\n",
       "\n",
       "\n",
       "  <div class=\"bk-root\" id=\"3b3d157a-aa7a-4135-84ea-90034e29bbba\" data-root-id=\"1003\"></div>\n"
      ]
     },
     "metadata": {},
     "output_type": "display_data"
    },
    {
     "data": {
      "application/javascript": [
       "(function(root) {\n",
       "  function embed_document(root) {\n",
       "    \n",
       "  const docs_json = {\"bd8436b9-f7b0-4486-8f9d-547d430724aa\":{\"defs\":[],\"roots\":{\"references\":[{\"attributes\":{\"below\":[{\"id\":\"1012\"}],\"center\":[{\"id\":\"1015\"},{\"id\":\"1019\"}],\"left\":[{\"id\":\"1016\"}],\"renderers\":[{\"id\":\"1034\"}],\"title\":{\"id\":\"1044\"},\"toolbar\":{\"id\":\"1027\"},\"x_range\":{\"id\":\"1004\"},\"x_scale\":{\"id\":\"1008\"},\"y_range\":{\"id\":\"1006\"},\"y_scale\":{\"id\":\"1010\"}},\"id\":\"1003\",\"subtype\":\"Figure\",\"type\":\"Plot\"},{\"attributes\":{\"coordinates\":null,\"formatter\":{\"id\":\"1057\"},\"group\":null,\"major_label_policy\":{\"id\":\"1058\"},\"ticker\":{\"id\":\"1017\"}},\"id\":\"1016\",\"type\":\"LinearAxis\"},{\"attributes\":{},\"id\":\"1058\",\"type\":\"AllLabels\"},{\"attributes\":{\"axis\":{\"id\":\"1016\"},\"coordinates\":null,\"dimension\":1,\"group\":null,\"ticker\":null},\"id\":\"1019\",\"type\":\"Grid\"},{\"attributes\":{},\"id\":\"1060\",\"type\":\"BasicTickFormatter\"},{\"attributes\":{},\"id\":\"1025\",\"type\":\"HelpTool\"},{\"attributes\":{},\"id\":\"1017\",\"type\":\"BasicTicker\"},{\"attributes\":{},\"id\":\"1055\",\"type\":\"NodesOnly\"},{\"attributes\":{},\"id\":\"1061\",\"type\":\"AllLabels\"},{\"attributes\":{\"coordinates\":null,\"data_source\":{\"id\":\"1040\"},\"glyph\":{\"id\":\"1039\"},\"group\":null,\"hover_glyph\":null,\"view\":{\"id\":\"1042\"}},\"id\":\"1041\",\"type\":\"GlyphRenderer\"},{\"attributes\":{},\"id\":\"1004\",\"type\":\"DataRange1d\"},{\"attributes\":{},\"id\":\"1021\",\"type\":\"WheelZoomTool\"},{\"attributes\":{},\"id\":\"1008\",\"type\":\"LinearScale\"},{\"attributes\":{\"coordinates\":null,\"formatter\":{\"id\":\"1060\"},\"group\":null,\"major_label_policy\":{\"id\":\"1061\"},\"ticker\":{\"id\":\"1013\"}},\"id\":\"1012\",\"type\":\"LinearAxis\"},{\"attributes\":{},\"id\":\"1020\",\"type\":\"PanTool\"},{\"attributes\":{},\"id\":\"1054\",\"type\":\"NodesOnly\"},{\"attributes\":{},\"id\":\"1063\",\"type\":\"UnionRenderers\"},{\"attributes\":{\"overlay\":{\"id\":\"1026\"}},\"id\":\"1022\",\"type\":\"BoxZoomTool\"},{\"attributes\":{},\"id\":\"1023\",\"type\":\"SaveTool\"},{\"attributes\":{\"data\":{\"end\":[\"thy\",\"good\",\"thee\",\"one\",\"mine\",\"must\",\"upon\",\"would\",\"make\",\"come\",\"shall\",\"work\",\"like\",\"works\",\"monster\",\"us\",\"sir\",\"pope\",\"upon\",\"mine\",\"sir\",\"one\",\"thee\",\"would\",\"make\",\"shall\",\"thy\",\"one\",\"mine\",\"come\",\"upon\",\"make\",\"shall\",\"work\",\"like\",\"must\",\"works\",\"would\",\"monster\",\"good\",\"sir\",\"one\",\"mine\",\"come\",\"work\",\"upon\",\"make\",\"shall\",\"like\",\"good\",\"works\",\"monster\",\"must\",\"sir\",\"would\",\"us\",\"good\",\"would\",\"like\",\"us\",\"upon\",\"shall\",\"one\",\"mine\",\"must\",\"make\",\"work\",\"make\",\"come\",\"one\",\"monster\",\"must\",\"mine\",\"upon\",\"like\",\"make\",\"upon\",\"like\",\"must\",\"would\",\"mine\",\"works\",\"good\",\"one\",\"make\",\"must\",\"mine\",\"like\",\"monster\",\"us\",\"upon\",\"works\",\"make\",\"like\",\"upon\",\"us\",\"monster\",\"mine\",\"one\",\"must\",\"us\",\"upon\",\"make\",\"one\",\"monster\",\"mine\",\"make\",\"one\",\"us\",\"like\",\"works\",\"must\",\"monster\",\"one\",\"mine\",\"make\",\"us\",\"must\",\"mine\",\"make\",\"monster\",\"us\",\"works\",\"us\",\"make\",\"must\",\"us\",\"must\",\"monster\",\"must\",\"monster\",\"must\"],\"start\":[\"thou\",\"thou\",\"thou\",\"thou\",\"thou\",\"thou\",\"thou\",\"thou\",\"thou\",\"thou\",\"thou\",\"thou\",\"thou\",\"thou\",\"thou\",\"thou\",\"thou\",\"thou\",\"pope\",\"pope\",\"pope\",\"pope\",\"pope\",\"pope\",\"pope\",\"pope\",\"thee\",\"thee\",\"thee\",\"thee\",\"thee\",\"thee\",\"thee\",\"thee\",\"thee\",\"thee\",\"thee\",\"thee\",\"thee\",\"thee\",\"thee\",\"thy\",\"thy\",\"thy\",\"thy\",\"thy\",\"thy\",\"thy\",\"thy\",\"thy\",\"thy\",\"thy\",\"thy\",\"thy\",\"thy\",\"thy\",\"sir\",\"sir\",\"sir\",\"sir\",\"sir\",\"sir\",\"sir\",\"sir\",\"sir\",\"sir\",\"shall\",\"shall\",\"shall\",\"shall\",\"shall\",\"shall\",\"shall\",\"shall\",\"shall\",\"work\",\"work\",\"work\",\"work\",\"work\",\"work\",\"work\",\"would\",\"would\",\"would\",\"would\",\"would\",\"would\",\"would\",\"would\",\"would\",\"would\",\"good\",\"good\",\"good\",\"good\",\"good\",\"good\",\"good\",\"good\",\"come\",\"come\",\"come\",\"come\",\"come\",\"upon\",\"upon\",\"upon\",\"upon\",\"upon\",\"upon\",\"upon\",\"upon\",\"like\",\"like\",\"like\",\"like\",\"like\",\"one\",\"one\",\"one\",\"one\",\"one\",\"mine\",\"mine\",\"mine\",\"make\",\"make\",\"make\",\"us\",\"us\",\"works\"]},\"selected\":{\"id\":\"1066\"},\"selection_policy\":{\"id\":\"1065\"}},\"id\":\"1040\",\"type\":\"ColumnDataSource\"},{\"attributes\":{},\"id\":\"1024\",\"type\":\"ResetTool\"},{\"attributes\":{\"graph_layout\":{\"come\":[0.40833607580862635,0.9157394750644691],\"good\":[0.5140533408240092,-0.32754207137302344],\"like\":[-0.4346775458222686,-0.4174985762109599],\"make\":[0.04193500393298162,0.4637641519346806],\"mine\":[-0.532255260914471,-0.15511949210805692],\"monster\":[0.7091044003817962,0.4782279021251541],\"must\":[-0.2059666969759143,-0.6045941338097238],\"one\":[-0.23896548775800225,0.040163658501791474],\"pope\":[-0.7751142135961869,0.556703296776882],\"shall\":[-0.2834963103340806,0.5577683611605683],\"sir\":[-0.5831726908404916,0.1524651186661666],\"thee\":[0.22007864625275725,0.24569371855715672],\"thou\":[0.12419152125279995,-0.1548187824527472],\"thy\":[0.21968384144862627,0.020321284755669817],\"upon\":[-0.09816481532509051,0.19465226680327952],\"us\":[0.5700681639272767,0.04247788884469845],\"work\":[0.2876161124861774,-0.6325808393814153],\"works\":[0.07027427988811792,-1.0],\"would\":[-0.013528364636670152,-0.3758232278545886]}},\"id\":\"1043\",\"type\":\"StaticLayoutProvider\"},{\"attributes\":{},\"id\":\"1064\",\"type\":\"Selection\"},{\"attributes\":{\"source\":{\"id\":\"1036\"}},\"id\":\"1038\",\"type\":\"CDSView\"},{\"attributes\":{\"bottom_units\":\"screen\",\"coordinates\":null,\"fill_alpha\":0.5,\"fill_color\":\"lightgrey\",\"group\":null,\"left_units\":\"screen\",\"level\":\"overlay\",\"line_alpha\":1.0,\"line_color\":\"black\",\"line_dash\":[4,4],\"line_width\":2,\"right_units\":\"screen\",\"syncable\":false,\"top_units\":\"screen\"},\"id\":\"1026\",\"type\":\"BoxAnnotation\"},{\"attributes\":{\"data\":{\"index\":[\"thou\",\"pope\",\"thee\",\"thy\",\"sir\",\"shall\",\"work\",\"would\",\"good\",\"come\",\"upon\",\"like\",\"one\",\"mine\",\"make\",\"us\",\"works\",\"must\",\"monster\"]},\"selected\":{\"id\":\"1064\"},\"selection_policy\":{\"id\":\"1063\"}},\"id\":\"1036\",\"type\":\"ColumnDataSource\"},{\"attributes\":{\"coordinates\":null,\"group\":null},\"id\":\"1044\",\"type\":\"Title\"},{\"attributes\":{},\"id\":\"1006\",\"type\":\"DataRange1d\"},{\"attributes\":{},\"id\":\"1065\",\"type\":\"UnionRenderers\"},{\"attributes\":{},\"id\":\"1039\",\"type\":\"MultiLine\"},{\"attributes\":{\"coordinates\":null,\"data_source\":{\"id\":\"1036\"},\"glyph\":{\"id\":\"1035\"},\"group\":null,\"hover_glyph\":null,\"view\":{\"id\":\"1038\"}},\"id\":\"1037\",\"type\":\"GlyphRenderer\"},{\"attributes\":{},\"id\":\"1066\",\"type\":\"Selection\"},{\"attributes\":{},\"id\":\"1035\",\"type\":\"Circle\"},{\"attributes\":{},\"id\":\"1057\",\"type\":\"BasicTickFormatter\"},{\"attributes\":{\"source\":{\"id\":\"1040\"}},\"id\":\"1042\",\"type\":\"CDSView\"},{\"attributes\":{\"tools\":[{\"id\":\"1020\"},{\"id\":\"1021\"},{\"id\":\"1022\"},{\"id\":\"1023\"},{\"id\":\"1024\"},{\"id\":\"1025\"}]},\"id\":\"1027\",\"type\":\"Toolbar\"},{\"attributes\":{\"coordinates\":null,\"edge_renderer\":{\"id\":\"1041\"},\"group\":null,\"inspection_policy\":{\"id\":\"1055\"},\"layout_provider\":{\"id\":\"1043\"},\"node_renderer\":{\"id\":\"1037\"},\"selection_policy\":{\"id\":\"1054\"}},\"id\":\"1034\",\"type\":\"GraphRenderer\"},{\"attributes\":{\"axis\":{\"id\":\"1012\"},\"coordinates\":null,\"group\":null,\"ticker\":null},\"id\":\"1015\",\"type\":\"Grid\"},{\"attributes\":{},\"id\":\"1013\",\"type\":\"BasicTicker\"},{\"attributes\":{},\"id\":\"1010\",\"type\":\"LinearScale\"}],\"root_ids\":[\"1003\"]},\"title\":\"Bokeh Application\",\"version\":\"2.4.0\"}};\n",
       "  const render_items = [{\"docid\":\"bd8436b9-f7b0-4486-8f9d-547d430724aa\",\"root_ids\":[\"1003\"],\"roots\":{\"1003\":\"3b3d157a-aa7a-4135-84ea-90034e29bbba\"}}];\n",
       "  root.Bokeh.embed.embed_items_notebook(docs_json, render_items);\n",
       "\n",
       "  }\n",
       "  if (root.Bokeh !== undefined) {\n",
       "    embed_document(root);\n",
       "  } else {\n",
       "    let attempts = 0;\n",
       "    const timer = setInterval(function(root) {\n",
       "      if (root.Bokeh !== undefined) {\n",
       "        clearInterval(timer);\n",
       "        embed_document(root);\n",
       "      } else {\n",
       "        attempts++;\n",
       "        if (attempts > 100) {\n",
       "          clearInterval(timer);\n",
       "          console.log(\"Bokeh: ERROR: Unable to run BokehJS code because BokehJS library is missing\");\n",
       "        }\n",
       "      }\n",
       "    }, 10, root)\n",
       "  }\n",
       "})(window);"
      ],
      "application/vnd.bokehjs_exec.v0+json": ""
     },
     "metadata": {
      "application/vnd.bokehjs_exec.v0+json": {
       "id": "1003"
      }
     },
     "output_type": "display_data"
    }
   ],
   "source": [
    "plot = figure()\n",
    "\n",
    "# layouts: https://networkx.org/documentation/stable/reference/drawing.html#module-networkx.drawing.layout\n",
    "network_graph = from_networkx(G, nx.spring_layout)\n",
    "\n",
    "plot.renderers.append(network_graph)\n",
    "\n",
    "show(plot)"
   ]
  },
  {
   "cell_type": "markdown",
   "id": "16fe020e-09df-44ec-b044-9d2ea2501c5e",
   "metadata": {},
   "source": [
    "# Meaning of the graph\n",
    "First I calculated the word frequency of each word in The Tempest by Shakespeare. Then I took the first 19 words (not including weird words or words that I are meant solely for plays such as abbreviated character names, notes, etc) and I looked through each sentence. Every sentence that a word was used in conjunction with another word, I added a edge between the two nodes. That's how I created this graph. I hope that this graph illuminates what kinds of words are used on their own the most and hopefully it shows how significant those words are to the body of work."
   ]
  },
  {
   "cell_type": "code",
   "execution_count": 10,
   "id": "cfc8bbfe-15e4-4a4f-8d87-71d299decafa",
   "metadata": {},
   "outputs": [
    {
     "data": {
      "text/plain": [
       "0.7719298245614035"
      ]
     },
     "execution_count": 10,
     "metadata": {},
     "output_type": "execute_result"
    }
   ],
   "source": [
    "nx.density(G)"
   ]
  },
  {
   "cell_type": "code",
   "execution_count": 11,
   "id": "502a745e-316a-439a-a6ae-ae3a17a3ed76",
   "metadata": {},
   "outputs": [
    {
     "data": {
      "text/plain": [
       "{'thou': 1.0,\n",
       " 'pope': 0.5,\n",
       " 'thee': 0.9444444444444444,\n",
       " 'thy': 0.9444444444444444,\n",
       " 'sir': 0.7777777777777777,\n",
       " 'shall': 0.7777777777777777,\n",
       " 'work': 0.611111111111111,\n",
       " 'would': 0.8888888888888888,\n",
       " 'good': 0.7222222222222222,\n",
       " 'come': 0.5,\n",
       " 'upon': 1.0,\n",
       " 'like': 0.7777777777777777,\n",
       " 'one': 0.8888888888888888,\n",
       " 'mine': 0.8333333333333333,\n",
       " 'make': 0.9444444444444444,\n",
       " 'us': 0.7222222222222222,\n",
       " 'works': 0.4444444444444444,\n",
       " 'must': 0.7777777777777777,\n",
       " 'monster': 0.611111111111111}"
      ]
     },
     "execution_count": 11,
     "metadata": {},
     "output_type": "execute_result"
    }
   ],
   "source": [
    "nx.degree_centrality(G)"
   ]
  },
  {
   "cell_type": "markdown",
   "id": "8a20a64b-1eaa-49ec-9d21-3bfdd0f3cc43",
   "metadata": {},
   "source": [
    "# Network density and most important nodes\n",
    "The network density is about 0.772 and that shows that many of the words in this network graph have been used in sentences together. I think the most important nodes are the nodes with the least degree centrality. These words would be pope, monster, works, or come. Similar to how the use of \"the\" in Macbeth make is scary, I feel like if we analyzed the way these words are used in The Tempest, it could say a lot about the play itself. Here are the values of degree centrality for these nodes:  \n",
    "'pope': 0.5, 'come': 0.5, 'monster': 0.611111111111111,  'works': 0.4444444444444444"
   ]
  },
  {
   "cell_type": "code",
   "execution_count": 19,
   "id": "e673cdce-e74d-45a6-a830-f78c899427c0",
   "metadata": {},
   "outputs": [
    {
     "data": {
      "text/html": [
       "\n",
       "\n",
       "\n",
       "\n",
       "\n",
       "\n",
       "  <div class=\"bk-root\" id=\"efe28e25-38ed-40c7-a236-1ca0273dd9e6\" data-root-id=\"3068\"></div>\n"
      ]
     },
     "metadata": {},
     "output_type": "display_data"
    },
    {
     "data": {
      "application/javascript": [
       "(function(root) {\n",
       "  function embed_document(root) {\n",
       "    \n",
       "  const docs_json = {\"5217e6e7-2c1a-43f8-9338-09094152755f\":{\"defs\":[],\"roots\":{\"references\":[{\"attributes\":{\"below\":[{\"id\":\"3075\"}],\"center\":[{\"id\":\"3078\"},{\"id\":\"3082\"}],\"left\":[{\"id\":\"3079\"}],\"renderers\":[{\"id\":\"3099\"},{\"id\":\"3115\"}],\"title\":{\"id\":\"3215\"},\"toolbar\":{\"id\":\"3091\"},\"x_range\":{\"id\":\"3066\"},\"x_scale\":{\"id\":\"3071\"},\"y_range\":{\"id\":\"3067\"},\"y_scale\":{\"id\":\"3073\"}},\"id\":\"3068\",\"subtype\":\"Figure\",\"type\":\"Plot\"},{\"attributes\":{},\"id\":\"3073\",\"type\":\"LinearScale\"},{\"attributes\":{},\"id\":\"3225\",\"type\":\"NodesOnly\"},{\"attributes\":{\"coordinates\":null,\"edge_renderer\":{\"id\":\"3106\"},\"group\":null,\"inspection_policy\":{\"id\":\"3226\"},\"layout_provider\":{\"id\":\"3108\"},\"node_renderer\":{\"id\":\"3102\"},\"selection_policy\":{\"id\":\"3225\"}},\"id\":\"3099\",\"type\":\"GraphRenderer\"},{\"attributes\":{\"source\":{\"id\":\"3101\"}},\"id\":\"3103\",\"type\":\"CDSView\"},{\"attributes\":{},\"id\":\"3233\",\"type\":\"UnionRenderers\"},{\"attributes\":{\"coordinates\":null,\"data_source\":{\"id\":\"3105\"},\"glyph\":{\"id\":\"3104\"},\"group\":null,\"hover_glyph\":null,\"view\":{\"id\":\"3107\"}},\"id\":\"3106\",\"type\":\"GlyphRenderer\"},{\"attributes\":{\"data\":{\"name\":[\"thou\",\"pope\",\"thee\",\"thy\",\"sir\",\"shall\",\"work\",\"would\",\"good\",\"come\",\"upon\",\"like\",\"one\",\"mine\",\"make\",\"us\",\"works\",\"must\",\"monster\"],\"x\":[1.7782131568816322,1.943976410125408,0.937200804056678,-0.6281430349969034,5.075500259430181,-1.6592318526448866,8.516646804010708,-0.38425331281339814,-5.101103714382856,-10.0,-0.5694448492423044,3.9208761039685505,-4.1005551149590085,4.242403603495407,-3.4276770332528264,-3.69345482493506,8.691769815333771,3.3509295833392825,-8.893652803414364],\"y\":[0.37457323089166034,9.901587391306752,4.0596472415900235,-4.514728512745849,-0.1308833712037524,6.080213180923909,2.09657179901926,1.1530184773453003,-4.082058731020067,-1.0716391272870909,-1.7641860945491892,-3.449550587352412,0.04979006398907006,3.4126427142361373,3.025319761347572,-6.858446403888923,-4.93447970030504,-6.152397078882027,2.8050057465846705]},\"selected\":{\"id\":\"3234\"},\"selection_policy\":{\"id\":\"3233\"}},\"id\":\"3114\",\"type\":\"ColumnDataSource\"},{\"attributes\":{\"end\":11,\"start\":-11},\"id\":\"3067\",\"type\":\"Range1d\"},{\"attributes\":{\"background_fill_color\":{\"value\":\"white\"},\"coordinates\":null,\"group\":null,\"source\":{\"id\":\"3114\"},\"text\":{\"field\":\"name\"},\"text_font_size\":{\"value\":\"14px\"},\"x\":{\"field\":\"x\"},\"x_offset\":{\"value\":-2.0},\"y\":{\"field\":\"y\"},\"y_offset\":{\"value\":-2.0}},\"id\":\"3115\",\"type\":\"LabelSet\"},{\"attributes\":{},\"id\":\"3071\",\"type\":\"LinearScale\"},{\"attributes\":{\"fill_color\":{\"field\":\"importance\"},\"size\":{\"value\":15}},\"id\":\"3109\",\"type\":\"Circle\"},{\"attributes\":{\"coordinates\":null,\"formatter\":{\"id\":\"3228\"},\"group\":null,\"major_label_policy\":{\"id\":\"3229\"},\"ticker\":{\"id\":\"3080\"}},\"id\":\"3079\",\"type\":\"LinearAxis\"},{\"attributes\":{},\"id\":\"3229\",\"type\":\"AllLabels\"},{\"attributes\":{\"bottom_units\":\"screen\",\"coordinates\":null,\"fill_alpha\":0.5,\"fill_color\":\"lightgrey\",\"group\":null,\"left_units\":\"screen\",\"level\":\"overlay\",\"line_alpha\":1.0,\"line_color\":\"black\",\"line_dash\":[4,4],\"line_width\":2,\"right_units\":\"screen\",\"syncable\":false,\"top_units\":\"screen\"},\"id\":\"3089\",\"type\":\"BoxAnnotation\"},{\"attributes\":{\"end\":11,\"start\":-11},\"id\":\"3066\",\"type\":\"Range1d\"},{\"attributes\":{\"data\":{\"end\":[\"thy\",\"good\",\"thee\",\"one\",\"mine\",\"must\",\"upon\",\"would\",\"make\",\"come\",\"shall\",\"work\",\"like\",\"works\",\"monster\",\"us\",\"sir\",\"pope\",\"upon\",\"mine\",\"sir\",\"one\",\"thee\",\"would\",\"make\",\"shall\",\"thy\",\"one\",\"mine\",\"come\",\"upon\",\"make\",\"shall\",\"work\",\"like\",\"must\",\"works\",\"would\",\"monster\",\"good\",\"sir\",\"one\",\"mine\",\"come\",\"work\",\"upon\",\"make\",\"shall\",\"like\",\"good\",\"works\",\"monster\",\"must\",\"sir\",\"would\",\"us\",\"good\",\"would\",\"like\",\"us\",\"upon\",\"shall\",\"one\",\"mine\",\"must\",\"make\",\"work\",\"make\",\"come\",\"one\",\"monster\",\"must\",\"mine\",\"upon\",\"like\",\"make\",\"upon\",\"like\",\"must\",\"would\",\"mine\",\"works\",\"good\",\"one\",\"make\",\"must\",\"mine\",\"like\",\"monster\",\"us\",\"upon\",\"works\",\"make\",\"like\",\"upon\",\"us\",\"monster\",\"mine\",\"one\",\"must\",\"us\",\"upon\",\"make\",\"one\",\"monster\",\"mine\",\"make\",\"one\",\"us\",\"like\",\"works\",\"must\",\"monster\",\"one\",\"mine\",\"make\",\"us\",\"must\",\"mine\",\"make\",\"monster\",\"us\",\"works\",\"us\",\"make\",\"must\",\"us\",\"must\",\"monster\",\"must\",\"monster\",\"must\"],\"start\":[\"thou\",\"thou\",\"thou\",\"thou\",\"thou\",\"thou\",\"thou\",\"thou\",\"thou\",\"thou\",\"thou\",\"thou\",\"thou\",\"thou\",\"thou\",\"thou\",\"thou\",\"thou\",\"pope\",\"pope\",\"pope\",\"pope\",\"pope\",\"pope\",\"pope\",\"pope\",\"thee\",\"thee\",\"thee\",\"thee\",\"thee\",\"thee\",\"thee\",\"thee\",\"thee\",\"thee\",\"thee\",\"thee\",\"thee\",\"thee\",\"thee\",\"thy\",\"thy\",\"thy\",\"thy\",\"thy\",\"thy\",\"thy\",\"thy\",\"thy\",\"thy\",\"thy\",\"thy\",\"thy\",\"thy\",\"thy\",\"sir\",\"sir\",\"sir\",\"sir\",\"sir\",\"sir\",\"sir\",\"sir\",\"sir\",\"sir\",\"shall\",\"shall\",\"shall\",\"shall\",\"shall\",\"shall\",\"shall\",\"shall\",\"shall\",\"work\",\"work\",\"work\",\"work\",\"work\",\"work\",\"work\",\"would\",\"would\",\"would\",\"would\",\"would\",\"would\",\"would\",\"would\",\"would\",\"would\",\"good\",\"good\",\"good\",\"good\",\"good\",\"good\",\"good\",\"good\",\"come\",\"come\",\"come\",\"come\",\"come\",\"upon\",\"upon\",\"upon\",\"upon\",\"upon\",\"upon\",\"upon\",\"upon\",\"like\",\"like\",\"like\",\"like\",\"like\",\"one\",\"one\",\"one\",\"one\",\"one\",\"mine\",\"mine\",\"mine\",\"make\",\"make\",\"make\",\"us\",\"us\",\"works\"]},\"selected\":{\"id\":\"3239\"},\"selection_policy\":{\"id\":\"3238\"}},\"id\":\"3105\",\"type\":\"ColumnDataSource\"},{\"attributes\":{\"overlay\":{\"id\":\"3089\"}},\"id\":\"3085\",\"type\":\"BoxZoomTool\"},{\"attributes\":{},\"id\":\"3083\",\"type\":\"PanTool\"},{\"attributes\":{\"coordinates\":null,\"group\":null},\"id\":\"3215\",\"type\":\"Title\"},{\"attributes\":{},\"id\":\"3236\",\"type\":\"UnionRenderers\"},{\"attributes\":{},\"id\":\"3084\",\"type\":\"WheelZoomTool\"},{\"attributes\":{},\"id\":\"3076\",\"type\":\"BasicTicker\"},{\"attributes\":{\"axis\":{\"id\":\"3075\"},\"coordinates\":null,\"group\":null,\"ticker\":null},\"id\":\"3078\",\"type\":\"Grid\"},{\"attributes\":{},\"id\":\"3087\",\"type\":\"ResetTool\"},{\"attributes\":{\"tools\":[{\"id\":\"3083\"},{\"id\":\"3084\"},{\"id\":\"3085\"},{\"id\":\"3086\"},{\"id\":\"3087\"},{\"id\":\"3088\"},{\"id\":\"3090\"}]},\"id\":\"3091\",\"type\":\"Toolbar\"},{\"attributes\":{},\"id\":\"3226\",\"type\":\"NodesOnly\"},{\"attributes\":{},\"id\":\"3088\",\"type\":\"HelpTool\"},{\"attributes\":{\"axis\":{\"id\":\"3079\"},\"coordinates\":null,\"dimension\":1,\"group\":null,\"ticker\":null},\"id\":\"3082\",\"type\":\"Grid\"},{\"attributes\":{},\"id\":\"3086\",\"type\":\"SaveTool\"},{\"attributes\":{},\"id\":\"3237\",\"type\":\"Selection\"},{\"attributes\":{},\"id\":\"3239\",\"type\":\"Selection\"},{\"attributes\":{\"callback\":null,\"tooltips\":[[\"Name\",\"@index\"],[\"Degree\",\"@degree\"]]},\"id\":\"3090\",\"type\":\"HoverTool\"},{\"attributes\":{},\"id\":\"3238\",\"type\":\"UnionRenderers\"},{\"attributes\":{},\"id\":\"3080\",\"type\":\"BasicTicker\"},{\"attributes\":{\"coordinates\":null,\"formatter\":{\"id\":\"3231\"},\"group\":null,\"major_label_policy\":{\"id\":\"3232\"},\"ticker\":{\"id\":\"3076\"}},\"id\":\"3075\",\"type\":\"LinearAxis\"},{\"attributes\":{},\"id\":\"3234\",\"type\":\"Selection\"},{\"attributes\":{\"coordinates\":null,\"data_source\":{\"id\":\"3101\"},\"glyph\":{\"id\":\"3109\"},\"group\":null,\"hover_glyph\":null,\"view\":{\"id\":\"3103\"}},\"id\":\"3102\",\"type\":\"GlyphRenderer\"},{\"attributes\":{\"graph_layout\":{\"come\":[-10.0,-1.0716391272870909],\"good\":[-5.101103714382856,-4.082058731020067],\"like\":[3.9208761039685505,-3.449550587352412],\"make\":[-3.4276770332528264,3.025319761347572],\"mine\":[4.242403603495407,3.4126427142361373],\"monster\":[-8.893652803414364,2.8050057465846705],\"must\":[3.3509295833392825,-6.152397078882027],\"one\":[-4.1005551149590085,0.04979006398907006],\"pope\":[1.943976410125408,9.901587391306752],\"shall\":[-1.6592318526448866,6.080213180923909],\"sir\":[5.075500259430181,-0.1308833712037524],\"thee\":[0.937200804056678,4.0596472415900235],\"thou\":[1.7782131568816322,0.37457323089166034],\"thy\":[-0.6281430349969034,-4.514728512745849],\"upon\":[-0.5694448492423044,-1.7641860945491892],\"us\":[-3.69345482493506,-6.858446403888923],\"work\":[8.516646804010708,2.09657179901926],\"works\":[8.691769815333771,-4.93447970030504],\"would\":[-0.38425331281339814,1.1530184773453003]}},\"id\":\"3108\",\"type\":\"StaticLayoutProvider\"},{\"attributes\":{\"data\":{\"degree\":[18,9,17,17,14,14,11,16,13,9,18,14,16,15,17,13,8,14,11],\"importance\":[\"black\",\"red\",\"black\",\"black\",\"black\",\"black\",\"black\",\"black\",\"black\",\"red\",\"black\",\"black\",\"black\",\"black\",\"black\",\"black\",\"red\",\"black\",\"red\"],\"index\":[\"thou\",\"pope\",\"thee\",\"thy\",\"sir\",\"shall\",\"work\",\"would\",\"good\",\"come\",\"upon\",\"like\",\"one\",\"mine\",\"make\",\"us\",\"works\",\"must\",\"monster\"]},\"selected\":{\"id\":\"3237\"},\"selection_policy\":{\"id\":\"3236\"}},\"id\":\"3101\",\"type\":\"ColumnDataSource\"},{\"attributes\":{},\"id\":\"3104\",\"type\":\"MultiLine\"},{\"attributes\":{},\"id\":\"3232\",\"type\":\"AllLabels\"},{\"attributes\":{\"source\":{\"id\":\"3105\"}},\"id\":\"3107\",\"type\":\"CDSView\"},{\"attributes\":{},\"id\":\"3231\",\"type\":\"BasicTickFormatter\"},{\"attributes\":{},\"id\":\"3228\",\"type\":\"BasicTickFormatter\"}],\"root_ids\":[\"3068\"]},\"title\":\"Bokeh Application\",\"version\":\"2.4.0\"}};\n",
       "  const render_items = [{\"docid\":\"5217e6e7-2c1a-43f8-9338-09094152755f\",\"root_ids\":[\"3068\"],\"roots\":{\"3068\":\"efe28e25-38ed-40c7-a236-1ca0273dd9e6\"}}];\n",
       "  root.Bokeh.embed.embed_items_notebook(docs_json, render_items);\n",
       "\n",
       "  }\n",
       "  if (root.Bokeh !== undefined) {\n",
       "    embed_document(root);\n",
       "  } else {\n",
       "    let attempts = 0;\n",
       "    const timer = setInterval(function(root) {\n",
       "      if (root.Bokeh !== undefined) {\n",
       "        clearInterval(timer);\n",
       "        embed_document(root);\n",
       "      } else {\n",
       "        attempts++;\n",
       "        if (attempts > 100) {\n",
       "          clearInterval(timer);\n",
       "          console.log(\"Bokeh: ERROR: Unable to run BokehJS code because BokehJS library is missing\");\n",
       "        }\n",
       "      }\n",
       "    }, 10, root)\n",
       "  }\n",
       "})(window);"
      ],
      "application/vnd.bokehjs_exec.v0+json": ""
     },
     "metadata": {
      "application/vnd.bokehjs_exec.v0+json": {
       "id": "3068"
      }
     },
     "output_type": "display_data"
    },
    {
     "data": {
      "text/plain": [
       "'/home/jovyan/dh140/TheTempest.html'"
      ]
     },
     "execution_count": 19,
     "metadata": {},
     "output_type": "execute_result"
    }
   ],
   "source": [
    "# Making the graph more aesthetically pleasing\n",
    "dg = dict(nx.degree(G))\n",
    "nx.set_node_attributes(G, name='degree', values=dg)\n",
    "\n",
    "# Trying to make the important words stand out more\n",
    "importance = {'thou': 'black',\n",
    " 'pope': 'red',\n",
    " 'thee': 'black',\n",
    " 'thy': 'black',\n",
    " 'sir': 'black',\n",
    " 'shall': 'black',\n",
    " 'work': 'black',\n",
    " 'would': 'black',\n",
    " 'good': 'black',\n",
    " 'come': 'red',\n",
    " 'upon': 'black',\n",
    " 'like': 'black',\n",
    " 'one': 'black',\n",
    " 'mine': 'black',\n",
    " 'make': 'black',\n",
    " 'us': 'black',\n",
    " 'works': 'red',\n",
    " 'must': 'black',\n",
    " 'monster': 'red'}\n",
    "nx.set_node_attributes(G, name='importance',values=importance)\n",
    "\n",
    "# Add tooltips\n",
    "HOVER_TOOLTIPS = [\n",
    "        (\"Name\", \"@index\"),\n",
    "        (\"Degree\", \"@degree\"),\n",
    "]\n",
    "\n",
    "plot = figure(tooltips = HOVER_TOOLTIPS,\n",
    "              x_range=Range1d(-11, 11),\n",
    "              y_range=Range1d(-11, 11))\n",
    "\n",
    "network_graph = from_networkx(G, nx.spring_layout, scale=10, center=(0, 0))\n",
    "\n",
    "# Give each node a circle\n",
    "network_graph.node_renderer.glyph = Circle(size=15,\n",
    "                                           fill_color='importance')\n",
    "\n",
    "plot.renderers.append(network_graph)\n",
    "\n",
    "x, y = zip(*network_graph.layout_provider.graph_layout.values())\n",
    "node_labels = list(G.nodes())\n",
    "source = ColumnDataSource({'x': x, 'y': y, 'name': [str(node_labels[i]) for i in range(len(x))]})\n",
    "labels = LabelSet(x='x', y='y', text='name', source=source, background_fill_color='white', text_font_size='14px', background_fill_alpha=1, x_offset=-2.0, y_offset=-2.0)\n",
    "plot.renderers.append(labels)\n",
    "\n",
    "show(plot)\n",
    "title = 'TheTempest'\n",
    "save(plot, filename=f\"{title}.html\")"
   ]
  },
  {
   "cell_type": "code",
   "execution_count": null,
   "id": "3b957b62-60ab-469f-987b-bdaa3475b913",
   "metadata": {},
   "outputs": [],
   "source": []
  }
 ],
 "metadata": {
  "kernelspec": {
   "display_name": "Python 3 (ipykernel)",
   "language": "python",
   "name": "python3"
  },
  "language_info": {
   "codemirror_mode": {
    "name": "ipython",
    "version": 3
   },
   "file_extension": ".py",
   "mimetype": "text/x-python",
   "name": "python",
   "nbconvert_exporter": "python",
   "pygments_lexer": "ipython3",
   "version": "3.9.6"
  }
 },
 "nbformat": 4,
 "nbformat_minor": 5
}
