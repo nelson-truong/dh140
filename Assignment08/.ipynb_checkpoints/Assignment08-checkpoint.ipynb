{
 "cells": [
  {
   "cell_type": "code",
   "execution_count": 7,
   "id": "554ee103-1936-4903-89f3-d44f74087647",
   "metadata": {},
   "outputs": [
    {
     "name": "stderr",
     "output_type": "stream",
     "text": [
      "[nltk_data] Downloading package stopwords to /home/jovyan/nltk_data...\n",
      "[nltk_data]   Package stopwords is already up-to-date!\n"
     ]
    }
   ],
   "source": [
    "import requests\n",
    "from bs4 import BeautifulSoup\n",
    "import nltk\n",
    "from nltk.corpus import stopwords\n",
    "from string import punctuation\n",
    "nltk.download('stopwords')\n",
    "from nltk.tokenize import word_tokenize, sent_tokenize\n",
    "from nltk.probability import FreqDist\n",
    "from nltk.stem import WordNetLemmatizer\n",
    "import pandas as pd\n",
    "import numpy as np\n",
    "import matplotlib.pyplot as plt"
   ]
  },
  {
   "cell_type": "code",
   "execution_count": 24,
   "id": "22f5c244-d51a-41f8-8905-906b714e8d97",
   "metadata": {},
   "outputs": [],
   "source": [
    "# Grab the UTF-8 plain text for The Tempest from the Gutenberg Project\n",
    "html_doc = requests.get(\"https://www.gutenberg.org/files/23042/23042-h/23042-h.htm\").text\n",
    "\n",
    "# Feed into BeautifuLSoup to get a clean ASCII string\n",
    "soup = BeautifulSoup(html_doc, 'html.parser')\n",
    "plain_text = soup.get_text()\n",
    "\n",
    "# Tokenize into lowercase words\n",
    "words = word_tokenize(plain_text.lower())\n",
    "\n",
    "# Create a list of stop words\n",
    "stop_words = stopwords.words(\"english\") + list(punctuation)\n",
    "\n",
    "# Remove all unwanted words\n",
    "completewords = [w for w in words if w not in stop_words]\n",
    "\n",
    "# Find the frequency of all words\n",
    "freq = FreqDist(completewords)\n",
    "\n",
    "# Turn this list into a pandas dataframe\n",
    "wordlist = []\n",
    "wordfreq = []\n",
    "for i in sorted(freq, key=freq.get, reverse=True):\n",
    "    wordlist.append(i)\n",
    "    wordfreq.append(freq[i])\n",
    "    \n",
    "df = pd.DataFrame({'wordlist':wordlist, 'wordfreq':wordfreq})"
   ]
  },
  {
   "cell_type": "code",
   "execution_count": 29,
   "id": "11cc061b-d785-4d82-ab07-e1e1a8a6193c",
   "metadata": {},
   "outputs": [
    {
     "name": "stdout",
     "output_type": "stream",
     "text": [
      "thou\n",
      "pope\n",
      "pros\n",
      "thee\n",
      "f4\n",
      "thy\n",
      "f1\n",
      "f3\n",
      "f2\n",
      "project\n",
      "...\n",
      "sir\n",
      "conj\n",
      "seb\n",
      "1\n",
      "ff\n",
      "ant\n",
      "shall\n",
      "iâll\n",
      "ste\n",
      "work\n",
      "would\n",
      "mir\n",
      "gutenberg-tm\n",
      "ari\n",
      "2\n",
      "gon\n",
      "cal\n",
      "good\n",
      "come\n"
     ]
    }
   ],
   "source": [
    "for i in range(30):\n",
    "    print(df[\"wordlist\"][i])"
   ]
  },
  {
   "cell_type": "code",
   "execution_count": null,
   "id": "fdce68b0-0a96-40e8-808d-486c6790e4e9",
   "metadata": {},
   "outputs": [],
   "source": []
  }
 ],
 "metadata": {
  "kernelspec": {
   "display_name": "Python 3 (ipykernel)",
   "language": "python",
   "name": "python3"
  },
  "language_info": {
   "codemirror_mode": {
    "name": "ipython",
    "version": 3
   },
   "file_extension": ".py",
   "mimetype": "text/x-python",
   "name": "python",
   "nbconvert_exporter": "python",
   "pygments_lexer": "ipython3",
   "version": "3.9.6"
  }
 },
 "nbformat": 4,
 "nbformat_minor": 5
}
