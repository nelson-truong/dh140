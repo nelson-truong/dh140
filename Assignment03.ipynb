{
 "cells": [
  {
   "cell_type": "markdown",
   "id": "bb4f5554-efc9-460e-8254-995efb5f06ac",
   "metadata": {},
   "source": [
    "# Assignment 3"
   ]
  },
  {
   "cell_type": "markdown",
   "id": "77df600c-5f4a-4e18-bd2d-88551a4f1cc6",
   "metadata": {},
   "source": [
    "## Pandas and plotting exercises"
   ]
  },
  {
   "cell_type": "code",
   "execution_count": 2,
   "id": "f5e83735-8845-4afc-b79a-b0efe963d305",
   "metadata": {},
   "outputs": [],
   "source": [
    "# Import the pandas library\n",
    "import pandas as pd\n"
   ]
  },
  {
   "cell_type": "markdown",
   "id": "c4fe53d9-5776-45c6-b47d-9465a2888808",
   "metadata": {},
   "source": [
    "In Week 2, you used a dataset from the CORGIS website.  You may have used either the Python, CSV, or JSON data files.\n",
    "\n",
    "For this assignment, use the CSV file format for the same category of data that you used previously."
   ]
  },
  {
   "cell_type": "code",
   "execution_count": 3,
   "id": "c5850ef7-07fb-456c-9943-ba9e87cc0784",
   "metadata": {},
   "outputs": [
    {
     "data": {
      "text/html": [
       "<div>\n",
       "<style scoped>\n",
       "    .dataframe tbody tr th:only-of-type {\n",
       "        vertical-align: middle;\n",
       "    }\n",
       "\n",
       "    .dataframe tbody tr th {\n",
       "        vertical-align: top;\n",
       "    }\n",
       "\n",
       "    .dataframe thead th {\n",
       "        text-align: right;\n",
       "    }\n",
       "</style>\n",
       "<table border=\"1\" class=\"dataframe\">\n",
       "  <thead>\n",
       "    <tr style=\"text-align: right;\">\n",
       "      <th></th>\n",
       "      <th>name</th>\n",
       "      <th>rank</th>\n",
       "      <th>year</th>\n",
       "      <th>company.founded</th>\n",
       "      <th>company.name</th>\n",
       "      <th>company.relationship</th>\n",
       "      <th>company.sector</th>\n",
       "      <th>company.type</th>\n",
       "      <th>demographics.age</th>\n",
       "      <th>demographics.gender</th>\n",
       "      <th>...</th>\n",
       "      <th>location.gdp</th>\n",
       "      <th>location.region</th>\n",
       "      <th>wealth.type</th>\n",
       "      <th>wealth.worth in billions</th>\n",
       "      <th>wealth.how.category</th>\n",
       "      <th>wealth.how.from emerging</th>\n",
       "      <th>wealth.how.industry</th>\n",
       "      <th>wealth.how.inherited</th>\n",
       "      <th>wealth.how.was founder</th>\n",
       "      <th>wealth.how.was political</th>\n",
       "    </tr>\n",
       "  </thead>\n",
       "  <tbody>\n",
       "    <tr>\n",
       "      <th>0</th>\n",
       "      <td>Bill Gates</td>\n",
       "      <td>1</td>\n",
       "      <td>1996</td>\n",
       "      <td>1975</td>\n",
       "      <td>Microsoft</td>\n",
       "      <td>founder</td>\n",
       "      <td>Software</td>\n",
       "      <td>new</td>\n",
       "      <td>40</td>\n",
       "      <td>male</td>\n",
       "      <td>...</td>\n",
       "      <td>8.100000e+12</td>\n",
       "      <td>North America</td>\n",
       "      <td>founder non-finance</td>\n",
       "      <td>18.5</td>\n",
       "      <td>New Sectors</td>\n",
       "      <td>True</td>\n",
       "      <td>Technology-Computer</td>\n",
       "      <td>not inherited</td>\n",
       "      <td>True</td>\n",
       "      <td>True</td>\n",
       "    </tr>\n",
       "    <tr>\n",
       "      <th>1</th>\n",
       "      <td>Bill Gates</td>\n",
       "      <td>1</td>\n",
       "      <td>2001</td>\n",
       "      <td>1975</td>\n",
       "      <td>Microsoft</td>\n",
       "      <td>founder</td>\n",
       "      <td>Software</td>\n",
       "      <td>new</td>\n",
       "      <td>45</td>\n",
       "      <td>male</td>\n",
       "      <td>...</td>\n",
       "      <td>1.060000e+13</td>\n",
       "      <td>North America</td>\n",
       "      <td>founder non-finance</td>\n",
       "      <td>58.7</td>\n",
       "      <td>New Sectors</td>\n",
       "      <td>True</td>\n",
       "      <td>Technology-Computer</td>\n",
       "      <td>not inherited</td>\n",
       "      <td>True</td>\n",
       "      <td>True</td>\n",
       "    </tr>\n",
       "    <tr>\n",
       "      <th>2</th>\n",
       "      <td>Bill Gates</td>\n",
       "      <td>1</td>\n",
       "      <td>2014</td>\n",
       "      <td>1975</td>\n",
       "      <td>Microsoft</td>\n",
       "      <td>founder</td>\n",
       "      <td>Software</td>\n",
       "      <td>new</td>\n",
       "      <td>58</td>\n",
       "      <td>male</td>\n",
       "      <td>...</td>\n",
       "      <td>0.000000e+00</td>\n",
       "      <td>North America</td>\n",
       "      <td>founder non-finance</td>\n",
       "      <td>76.0</td>\n",
       "      <td>New Sectors</td>\n",
       "      <td>True</td>\n",
       "      <td>Technology-Computer</td>\n",
       "      <td>not inherited</td>\n",
       "      <td>True</td>\n",
       "      <td>True</td>\n",
       "    </tr>\n",
       "    <tr>\n",
       "      <th>3</th>\n",
       "      <td>Warren Buffett</td>\n",
       "      <td>2</td>\n",
       "      <td>1996</td>\n",
       "      <td>1962</td>\n",
       "      <td>Berkshire Hathaway</td>\n",
       "      <td>founder</td>\n",
       "      <td>Finance</td>\n",
       "      <td>new</td>\n",
       "      <td>65</td>\n",
       "      <td>male</td>\n",
       "      <td>...</td>\n",
       "      <td>8.100000e+12</td>\n",
       "      <td>North America</td>\n",
       "      <td>founder non-finance</td>\n",
       "      <td>15.0</td>\n",
       "      <td>Traded Sectors</td>\n",
       "      <td>True</td>\n",
       "      <td>Consumer</td>\n",
       "      <td>not inherited</td>\n",
       "      <td>True</td>\n",
       "      <td>True</td>\n",
       "    </tr>\n",
       "    <tr>\n",
       "      <th>4</th>\n",
       "      <td>Warren Buffett</td>\n",
       "      <td>2</td>\n",
       "      <td>2001</td>\n",
       "      <td>1962</td>\n",
       "      <td>Berkshire Hathaway</td>\n",
       "      <td>founder</td>\n",
       "      <td>Finance</td>\n",
       "      <td>new</td>\n",
       "      <td>70</td>\n",
       "      <td>male</td>\n",
       "      <td>...</td>\n",
       "      <td>1.060000e+13</td>\n",
       "      <td>North America</td>\n",
       "      <td>founder non-finance</td>\n",
       "      <td>32.3</td>\n",
       "      <td>Traded Sectors</td>\n",
       "      <td>True</td>\n",
       "      <td>Consumer</td>\n",
       "      <td>not inherited</td>\n",
       "      <td>True</td>\n",
       "      <td>True</td>\n",
       "    </tr>\n",
       "    <tr>\n",
       "      <th>...</th>\n",
       "      <td>...</td>\n",
       "      <td>...</td>\n",
       "      <td>...</td>\n",
       "      <td>...</td>\n",
       "      <td>...</td>\n",
       "      <td>...</td>\n",
       "      <td>...</td>\n",
       "      <td>...</td>\n",
       "      <td>...</td>\n",
       "      <td>...</td>\n",
       "      <td>...</td>\n",
       "      <td>...</td>\n",
       "      <td>...</td>\n",
       "      <td>...</td>\n",
       "      <td>...</td>\n",
       "      <td>...</td>\n",
       "      <td>...</td>\n",
       "      <td>...</td>\n",
       "      <td>...</td>\n",
       "      <td>...</td>\n",
       "      <td>...</td>\n",
       "    </tr>\n",
       "    <tr>\n",
       "      <th>2609</th>\n",
       "      <td>Wu Chung-Yi</td>\n",
       "      <td>1565</td>\n",
       "      <td>2014</td>\n",
       "      <td>1991</td>\n",
       "      <td>Tingyi</td>\n",
       "      <td>investor</td>\n",
       "      <td>beverages and food</td>\n",
       "      <td>new</td>\n",
       "      <td>55</td>\n",
       "      <td>male</td>\n",
       "      <td>...</td>\n",
       "      <td>0.000000e+00</td>\n",
       "      <td>East Asia</td>\n",
       "      <td>executive</td>\n",
       "      <td>1.0</td>\n",
       "      <td>Traded Sectors</td>\n",
       "      <td>True</td>\n",
       "      <td>Non-consumer industrial</td>\n",
       "      <td>not inherited</td>\n",
       "      <td>True</td>\n",
       "      <td>True</td>\n",
       "    </tr>\n",
       "    <tr>\n",
       "      <th>2610</th>\n",
       "      <td>Wu Xiong</td>\n",
       "      <td>1565</td>\n",
       "      <td>2014</td>\n",
       "      <td>1999</td>\n",
       "      <td>Biostime International Holdings</td>\n",
       "      <td>owner</td>\n",
       "      <td>infant formula</td>\n",
       "      <td>new</td>\n",
       "      <td>0</td>\n",
       "      <td>male</td>\n",
       "      <td>...</td>\n",
       "      <td>0.000000e+00</td>\n",
       "      <td>East Asia</td>\n",
       "      <td>executive</td>\n",
       "      <td>1.0</td>\n",
       "      <td>Traded Sectors</td>\n",
       "      <td>True</td>\n",
       "      <td>Consumer</td>\n",
       "      <td>not inherited</td>\n",
       "      <td>True</td>\n",
       "      <td>True</td>\n",
       "    </tr>\n",
       "    <tr>\n",
       "      <th>2611</th>\n",
       "      <td>Yang Keng</td>\n",
       "      <td>1565</td>\n",
       "      <td>2014</td>\n",
       "      <td>0</td>\n",
       "      <td>Blue Ray Corp</td>\n",
       "      <td>chairman</td>\n",
       "      <td>real estate</td>\n",
       "      <td>new</td>\n",
       "      <td>53</td>\n",
       "      <td>male</td>\n",
       "      <td>...</td>\n",
       "      <td>0.000000e+00</td>\n",
       "      <td>East Asia</td>\n",
       "      <td>self-made finance</td>\n",
       "      <td>1.0</td>\n",
       "      <td>Financial</td>\n",
       "      <td>True</td>\n",
       "      <td>Real Estate</td>\n",
       "      <td>not inherited</td>\n",
       "      <td>True</td>\n",
       "      <td>True</td>\n",
       "    </tr>\n",
       "    <tr>\n",
       "      <th>2612</th>\n",
       "      <td>Zdenek Bakala</td>\n",
       "      <td>1565</td>\n",
       "      <td>2014</td>\n",
       "      <td>1994</td>\n",
       "      <td>Patria Finance</td>\n",
       "      <td>founder</td>\n",
       "      <td>coal</td>\n",
       "      <td>new</td>\n",
       "      <td>53</td>\n",
       "      <td>male</td>\n",
       "      <td>...</td>\n",
       "      <td>0.000000e+00</td>\n",
       "      <td>Europe</td>\n",
       "      <td>privatized and resources</td>\n",
       "      <td>1.0</td>\n",
       "      <td>Resource Related</td>\n",
       "      <td>True</td>\n",
       "      <td>Mining and metals</td>\n",
       "      <td>not inherited</td>\n",
       "      <td>True</td>\n",
       "      <td>True</td>\n",
       "    </tr>\n",
       "    <tr>\n",
       "      <th>2613</th>\n",
       "      <td>Zhu Wenchen</td>\n",
       "      <td>1565</td>\n",
       "      <td>2014</td>\n",
       "      <td>1999</td>\n",
       "      <td>Furen Pharmaceutical Group</td>\n",
       "      <td>chairman</td>\n",
       "      <td>pharmaceuticals</td>\n",
       "      <td>new</td>\n",
       "      <td>48</td>\n",
       "      <td>male</td>\n",
       "      <td>...</td>\n",
       "      <td>0.000000e+00</td>\n",
       "      <td>East Asia</td>\n",
       "      <td>executive</td>\n",
       "      <td>1.0</td>\n",
       "      <td>New Sectors</td>\n",
       "      <td>True</td>\n",
       "      <td>Technology-Medical</td>\n",
       "      <td>not inherited</td>\n",
       "      <td>True</td>\n",
       "      <td>True</td>\n",
       "    </tr>\n",
       "  </tbody>\n",
       "</table>\n",
       "<p>2614 rows × 22 columns</p>\n",
       "</div>"
      ],
      "text/plain": [
       "                name  rank  year  company.founded  \\\n",
       "0         Bill Gates     1  1996             1975   \n",
       "1         Bill Gates     1  2001             1975   \n",
       "2         Bill Gates     1  2014             1975   \n",
       "3     Warren Buffett     2  1996             1962   \n",
       "4     Warren Buffett     2  2001             1962   \n",
       "...              ...   ...   ...              ...   \n",
       "2609     Wu Chung-Yi  1565  2014             1991   \n",
       "2610        Wu Xiong  1565  2014             1999   \n",
       "2611       Yang Keng  1565  2014                0   \n",
       "2612   Zdenek Bakala  1565  2014             1994   \n",
       "2613     Zhu Wenchen  1565  2014             1999   \n",
       "\n",
       "                         company.name company.relationship  \\\n",
       "0                           Microsoft              founder   \n",
       "1                           Microsoft              founder   \n",
       "2                           Microsoft              founder   \n",
       "3                  Berkshire Hathaway              founder   \n",
       "4                  Berkshire Hathaway              founder   \n",
       "...                               ...                  ...   \n",
       "2609                           Tingyi             investor   \n",
       "2610  Biostime International Holdings                owner   \n",
       "2611                    Blue Ray Corp             chairman   \n",
       "2612                   Patria Finance              founder   \n",
       "2613       Furen Pharmaceutical Group             chairman   \n",
       "\n",
       "          company.sector company.type  demographics.age demographics.gender  \\\n",
       "0               Software          new                40                male   \n",
       "1               Software          new                45                male   \n",
       "2               Software          new                58                male   \n",
       "3                Finance          new                65                male   \n",
       "4                Finance          new                70                male   \n",
       "...                  ...          ...               ...                 ...   \n",
       "2609  beverages and food          new                55                male   \n",
       "2610      infant formula          new                 0                male   \n",
       "2611         real estate          new                53                male   \n",
       "2612                coal          new                53                male   \n",
       "2613     pharmaceuticals          new                48                male   \n",
       "\n",
       "      ...  location.gdp location.region               wealth.type  \\\n",
       "0     ...  8.100000e+12   North America       founder non-finance   \n",
       "1     ...  1.060000e+13   North America       founder non-finance   \n",
       "2     ...  0.000000e+00   North America       founder non-finance   \n",
       "3     ...  8.100000e+12   North America       founder non-finance   \n",
       "4     ...  1.060000e+13   North America       founder non-finance   \n",
       "...   ...           ...             ...                       ...   \n",
       "2609  ...  0.000000e+00       East Asia                 executive   \n",
       "2610  ...  0.000000e+00       East Asia                 executive   \n",
       "2611  ...  0.000000e+00       East Asia         self-made finance   \n",
       "2612  ...  0.000000e+00          Europe  privatized and resources   \n",
       "2613  ...  0.000000e+00       East Asia                 executive   \n",
       "\n",
       "     wealth.worth in billions wealth.how.category  wealth.how.from emerging  \\\n",
       "0                        18.5         New Sectors                      True   \n",
       "1                        58.7         New Sectors                      True   \n",
       "2                        76.0         New Sectors                      True   \n",
       "3                        15.0      Traded Sectors                      True   \n",
       "4                        32.3      Traded Sectors                      True   \n",
       "...                       ...                 ...                       ...   \n",
       "2609                      1.0      Traded Sectors                      True   \n",
       "2610                      1.0      Traded Sectors                      True   \n",
       "2611                      1.0           Financial                      True   \n",
       "2612                      1.0    Resource Related                      True   \n",
       "2613                      1.0         New Sectors                      True   \n",
       "\n",
       "          wealth.how.industry  wealth.how.inherited wealth.how.was founder  \\\n",
       "0         Technology-Computer         not inherited                   True   \n",
       "1         Technology-Computer         not inherited                   True   \n",
       "2         Technology-Computer         not inherited                   True   \n",
       "3                    Consumer         not inherited                   True   \n",
       "4                    Consumer         not inherited                   True   \n",
       "...                       ...                   ...                    ...   \n",
       "2609  Non-consumer industrial         not inherited                   True   \n",
       "2610                 Consumer         not inherited                   True   \n",
       "2611              Real Estate         not inherited                   True   \n",
       "2612        Mining and metals         not inherited                   True   \n",
       "2613       Technology-Medical         not inherited                   True   \n",
       "\n",
       "     wealth.how.was political  \n",
       "0                        True  \n",
       "1                        True  \n",
       "2                        True  \n",
       "3                        True  \n",
       "4                        True  \n",
       "...                       ...  \n",
       "2609                     True  \n",
       "2610                     True  \n",
       "2611                     True  \n",
       "2612                     True  \n",
       "2613                     True  \n",
       "\n",
       "[2614 rows x 22 columns]"
      ]
     },
     "execution_count": 3,
     "metadata": {},
     "output_type": "execute_result"
    }
   ],
   "source": [
    "# Use pandas read_csv function to import the data into a dataframe variable\n",
    "pd.read_csv(\"billionaires.csv\")"
   ]
  },
  {
   "cell_type": "code",
   "execution_count": 6,
   "id": "ab04825f-f9ba-49ae-bf40-322f4e2554a9",
   "metadata": {},
   "outputs": [
    {
     "name": "stdout",
     "output_type": "stream",
     "text": [
      "Number of rows: 2614\n",
      "Number of columns: 22\n"
     ]
    }
   ],
   "source": [
    "# How many rows and columns does the dataframe have?\n",
    "df = pd.read_csv(\"billionaires.csv\")\n",
    "print(\"Number of rows:\", len(df))\n",
    "print(\"Number of columns:\", len(df.columns))"
   ]
  },
  {
   "cell_type": "code",
   "execution_count": 7,
   "id": "9a1ee811-1559-41f9-a431-c32daa108b97",
   "metadata": {
    "tags": []
   },
   "outputs": [
    {
     "name": "stdout",
     "output_type": "stream",
     "text": [
      "['name' 'rank' 'year' 'company.founded' 'company.name'\n",
      " 'company.relationship' 'company.sector' 'company.type' 'demographics.age'\n",
      " 'demographics.gender' 'location.citizenship' 'location.country code'\n",
      " 'location.gdp' 'location.region' 'wealth.type' 'wealth.worth in billions'\n",
      " 'wealth.how.category' 'wealth.how.from emerging' 'wealth.how.industry'\n",
      " 'wealth.how.inherited' 'wealth.how.was founder'\n",
      " 'wealth.how.was political']\n"
     ]
    }
   ],
   "source": [
    "# What are the column names of the dataframe?\n",
    "print(df.columns.values)"
   ]
  },
  {
   "cell_type": "code",
   "execution_count": 8,
   "id": "729f4be5-dd10-4d9b-814f-04d2d21d9042",
   "metadata": {},
   "outputs": [
    {
     "name": "stdout",
     "output_type": "stream",
     "text": [
      "name                         object\n",
      "rank                          int64\n",
      "year                          int64\n",
      "company.founded               int64\n",
      "company.name                 object\n",
      "company.relationship         object\n",
      "company.sector               object\n",
      "company.type                 object\n",
      "demographics.age              int64\n",
      "demographics.gender          object\n",
      "location.citizenship         object\n",
      "location.country code        object\n",
      "location.gdp                float64\n",
      "location.region              object\n",
      "wealth.type                  object\n",
      "wealth.worth in billions    float64\n",
      "wealth.how.category          object\n",
      "wealth.how.from emerging       bool\n",
      "wealth.how.industry          object\n",
      "wealth.how.inherited         object\n",
      "wealth.how.was founder         bool\n",
      "wealth.how.was political       bool\n",
      "dtype: object\n"
     ]
    }
   ],
   "source": [
    "# What are the datatypes of each column?\n",
    "print(df.dtypes)"
   ]
  },
  {
   "cell_type": "code",
   "execution_count": 10,
   "id": "51471321-443e-4b23-846e-54630d29af29",
   "metadata": {},
   "outputs": [
    {
     "data": {
      "text/html": [
       "<div>\n",
       "<style scoped>\n",
       "    .dataframe tbody tr th:only-of-type {\n",
       "        vertical-align: middle;\n",
       "    }\n",
       "\n",
       "    .dataframe tbody tr th {\n",
       "        vertical-align: top;\n",
       "    }\n",
       "\n",
       "    .dataframe thead th {\n",
       "        text-align: right;\n",
       "    }\n",
       "</style>\n",
       "<table border=\"1\" class=\"dataframe\">\n",
       "  <thead>\n",
       "    <tr style=\"text-align: right;\">\n",
       "      <th></th>\n",
       "      <th>name</th>\n",
       "      <th>rank</th>\n",
       "      <th>year</th>\n",
       "      <th>company.founded</th>\n",
       "      <th>company.name</th>\n",
       "      <th>company.relationship</th>\n",
       "      <th>company.sector</th>\n",
       "      <th>company.type</th>\n",
       "      <th>demographics.age</th>\n",
       "      <th>demographics.gender</th>\n",
       "      <th>...</th>\n",
       "      <th>location.gdp</th>\n",
       "      <th>location.region</th>\n",
       "      <th>wealth.type</th>\n",
       "      <th>wealth.worth in billions</th>\n",
       "      <th>wealth.how.category</th>\n",
       "      <th>wealth.how.from emerging</th>\n",
       "      <th>wealth.how.industry</th>\n",
       "      <th>wealth.how.inherited</th>\n",
       "      <th>wealth.how.was founder</th>\n",
       "      <th>wealth.how.was political</th>\n",
       "    </tr>\n",
       "  </thead>\n",
       "  <tbody>\n",
       "    <tr>\n",
       "      <th>0</th>\n",
       "      <td>Bill Gates</td>\n",
       "      <td>1</td>\n",
       "      <td>1996</td>\n",
       "      <td>1975</td>\n",
       "      <td>Microsoft</td>\n",
       "      <td>founder</td>\n",
       "      <td>Software</td>\n",
       "      <td>new</td>\n",
       "      <td>40</td>\n",
       "      <td>male</td>\n",
       "      <td>...</td>\n",
       "      <td>8.100000e+12</td>\n",
       "      <td>North America</td>\n",
       "      <td>founder non-finance</td>\n",
       "      <td>18.5</td>\n",
       "      <td>New Sectors</td>\n",
       "      <td>True</td>\n",
       "      <td>Technology-Computer</td>\n",
       "      <td>not inherited</td>\n",
       "      <td>True</td>\n",
       "      <td>True</td>\n",
       "    </tr>\n",
       "    <tr>\n",
       "      <th>1</th>\n",
       "      <td>Bill Gates</td>\n",
       "      <td>1</td>\n",
       "      <td>2001</td>\n",
       "      <td>1975</td>\n",
       "      <td>Microsoft</td>\n",
       "      <td>founder</td>\n",
       "      <td>Software</td>\n",
       "      <td>new</td>\n",
       "      <td>45</td>\n",
       "      <td>male</td>\n",
       "      <td>...</td>\n",
       "      <td>1.060000e+13</td>\n",
       "      <td>North America</td>\n",
       "      <td>founder non-finance</td>\n",
       "      <td>58.7</td>\n",
       "      <td>New Sectors</td>\n",
       "      <td>True</td>\n",
       "      <td>Technology-Computer</td>\n",
       "      <td>not inherited</td>\n",
       "      <td>True</td>\n",
       "      <td>True</td>\n",
       "    </tr>\n",
       "  </tbody>\n",
       "</table>\n",
       "<p>2 rows × 22 columns</p>\n",
       "</div>"
      ],
      "text/plain": [
       "         name  rank  year  company.founded company.name company.relationship  \\\n",
       "0  Bill Gates     1  1996             1975    Microsoft              founder   \n",
       "1  Bill Gates     1  2001             1975    Microsoft              founder   \n",
       "\n",
       "  company.sector company.type  demographics.age demographics.gender  ...  \\\n",
       "0       Software          new                40                male  ...   \n",
       "1       Software          new                45                male  ...   \n",
       "\n",
       "   location.gdp location.region          wealth.type wealth.worth in billions  \\\n",
       "0  8.100000e+12   North America  founder non-finance                     18.5   \n",
       "1  1.060000e+13   North America  founder non-finance                     58.7   \n",
       "\n",
       "  wealth.how.category  wealth.how.from emerging  wealth.how.industry  \\\n",
       "0         New Sectors                      True  Technology-Computer   \n",
       "1         New Sectors                      True  Technology-Computer   \n",
       "\n",
       "   wealth.how.inherited wealth.how.was founder wealth.how.was political  \n",
       "0         not inherited                   True                     True  \n",
       "1         not inherited                   True                     True  \n",
       "\n",
       "[2 rows x 22 columns]"
      ]
     },
     "execution_count": 10,
     "metadata": {},
     "output_type": "execute_result"
    }
   ],
   "source": [
    "# Look at the first 2 rows of the dataframe\n",
    "df.head(2)"
   ]
  },
  {
   "cell_type": "code",
   "execution_count": 11,
   "id": "f0206392-0e77-497c-8394-ad3e229a83ab",
   "metadata": {},
   "outputs": [
    {
     "data": {
      "text/html": [
       "<div>\n",
       "<style scoped>\n",
       "    .dataframe tbody tr th:only-of-type {\n",
       "        vertical-align: middle;\n",
       "    }\n",
       "\n",
       "    .dataframe tbody tr th {\n",
       "        vertical-align: top;\n",
       "    }\n",
       "\n",
       "    .dataframe thead th {\n",
       "        text-align: right;\n",
       "    }\n",
       "</style>\n",
       "<table border=\"1\" class=\"dataframe\">\n",
       "  <thead>\n",
       "    <tr style=\"text-align: right;\">\n",
       "      <th></th>\n",
       "      <th>name</th>\n",
       "      <th>rank</th>\n",
       "      <th>year</th>\n",
       "      <th>company.founded</th>\n",
       "      <th>company.name</th>\n",
       "      <th>company.relationship</th>\n",
       "      <th>company.sector</th>\n",
       "      <th>company.type</th>\n",
       "      <th>demographics.age</th>\n",
       "      <th>demographics.gender</th>\n",
       "      <th>...</th>\n",
       "      <th>location.gdp</th>\n",
       "      <th>location.region</th>\n",
       "      <th>wealth.type</th>\n",
       "      <th>wealth.worth in billions</th>\n",
       "      <th>wealth.how.category</th>\n",
       "      <th>wealth.how.from emerging</th>\n",
       "      <th>wealth.how.industry</th>\n",
       "      <th>wealth.how.inherited</th>\n",
       "      <th>wealth.how.was founder</th>\n",
       "      <th>wealth.how.was political</th>\n",
       "    </tr>\n",
       "  </thead>\n",
       "  <tbody>\n",
       "    <tr>\n",
       "      <th>2612</th>\n",
       "      <td>Zdenek Bakala</td>\n",
       "      <td>1565</td>\n",
       "      <td>2014</td>\n",
       "      <td>1994</td>\n",
       "      <td>Patria Finance</td>\n",
       "      <td>founder</td>\n",
       "      <td>coal</td>\n",
       "      <td>new</td>\n",
       "      <td>53</td>\n",
       "      <td>male</td>\n",
       "      <td>...</td>\n",
       "      <td>0.0</td>\n",
       "      <td>Europe</td>\n",
       "      <td>privatized and resources</td>\n",
       "      <td>1.0</td>\n",
       "      <td>Resource Related</td>\n",
       "      <td>True</td>\n",
       "      <td>Mining and metals</td>\n",
       "      <td>not inherited</td>\n",
       "      <td>True</td>\n",
       "      <td>True</td>\n",
       "    </tr>\n",
       "    <tr>\n",
       "      <th>2613</th>\n",
       "      <td>Zhu Wenchen</td>\n",
       "      <td>1565</td>\n",
       "      <td>2014</td>\n",
       "      <td>1999</td>\n",
       "      <td>Furen Pharmaceutical Group</td>\n",
       "      <td>chairman</td>\n",
       "      <td>pharmaceuticals</td>\n",
       "      <td>new</td>\n",
       "      <td>48</td>\n",
       "      <td>male</td>\n",
       "      <td>...</td>\n",
       "      <td>0.0</td>\n",
       "      <td>East Asia</td>\n",
       "      <td>executive</td>\n",
       "      <td>1.0</td>\n",
       "      <td>New Sectors</td>\n",
       "      <td>True</td>\n",
       "      <td>Technology-Medical</td>\n",
       "      <td>not inherited</td>\n",
       "      <td>True</td>\n",
       "      <td>True</td>\n",
       "    </tr>\n",
       "  </tbody>\n",
       "</table>\n",
       "<p>2 rows × 22 columns</p>\n",
       "</div>"
      ],
      "text/plain": [
       "               name  rank  year  company.founded                company.name  \\\n",
       "2612  Zdenek Bakala  1565  2014             1994              Patria Finance   \n",
       "2613    Zhu Wenchen  1565  2014             1999  Furen Pharmaceutical Group   \n",
       "\n",
       "     company.relationship   company.sector company.type  demographics.age  \\\n",
       "2612              founder             coal          new                53   \n",
       "2613             chairman  pharmaceuticals          new                48   \n",
       "\n",
       "     demographics.gender  ... location.gdp location.region  \\\n",
       "2612                male  ...          0.0          Europe   \n",
       "2613                male  ...          0.0       East Asia   \n",
       "\n",
       "                   wealth.type wealth.worth in billions wealth.how.category  \\\n",
       "2612  privatized and resources                      1.0    Resource Related   \n",
       "2613                 executive                      1.0         New Sectors   \n",
       "\n",
       "      wealth.how.from emerging wealth.how.industry  wealth.how.inherited  \\\n",
       "2612                      True   Mining and metals         not inherited   \n",
       "2613                      True  Technology-Medical         not inherited   \n",
       "\n",
       "     wealth.how.was founder wealth.how.was political  \n",
       "2612                   True                     True  \n",
       "2613                   True                     True  \n",
       "\n",
       "[2 rows x 22 columns]"
      ]
     },
     "execution_count": 11,
     "metadata": {},
     "output_type": "execute_result"
    }
   ],
   "source": [
    "# Look at the last 2 rows of the dataframe\n",
    "df.tail(2)"
   ]
  },
  {
   "cell_type": "code",
   "execution_count": 12,
   "id": "e87824ad-9ff4-487d-8506-00d940083ae0",
   "metadata": {},
   "outputs": [
    {
     "data": {
      "text/html": [
       "<div>\n",
       "<style scoped>\n",
       "    .dataframe tbody tr th:only-of-type {\n",
       "        vertical-align: middle;\n",
       "    }\n",
       "\n",
       "    .dataframe tbody tr th {\n",
       "        vertical-align: top;\n",
       "    }\n",
       "\n",
       "    .dataframe thead th {\n",
       "        text-align: right;\n",
       "    }\n",
       "</style>\n",
       "<table border=\"1\" class=\"dataframe\">\n",
       "  <thead>\n",
       "    <tr style=\"text-align: right;\">\n",
       "      <th></th>\n",
       "      <th>rank</th>\n",
       "      <th>year</th>\n",
       "      <th>company.founded</th>\n",
       "      <th>demographics.age</th>\n",
       "      <th>location.gdp</th>\n",
       "      <th>wealth.worth in billions</th>\n",
       "    </tr>\n",
       "  </thead>\n",
       "  <tbody>\n",
       "    <tr>\n",
       "      <th>count</th>\n",
       "      <td>2614.000000</td>\n",
       "      <td>2614.000000</td>\n",
       "      <td>2614.000000</td>\n",
       "      <td>2614.000000</td>\n",
       "      <td>2.614000e+03</td>\n",
       "      <td>2614.000000</td>\n",
       "    </tr>\n",
       "    <tr>\n",
       "      <th>mean</th>\n",
       "      <td>599.672533</td>\n",
       "      <td>2008.411630</td>\n",
       "      <td>1924.711936</td>\n",
       "      <td>53.341239</td>\n",
       "      <td>1.769103e+12</td>\n",
       "      <td>3.531943</td>\n",
       "    </tr>\n",
       "    <tr>\n",
       "      <th>std</th>\n",
       "      <td>467.885695</td>\n",
       "      <td>7.483598</td>\n",
       "      <td>243.776546</td>\n",
       "      <td>25.333320</td>\n",
       "      <td>3.547083e+12</td>\n",
       "      <td>5.088813</td>\n",
       "    </tr>\n",
       "    <tr>\n",
       "      <th>min</th>\n",
       "      <td>1.000000</td>\n",
       "      <td>1996.000000</td>\n",
       "      <td>0.000000</td>\n",
       "      <td>-42.000000</td>\n",
       "      <td>0.000000e+00</td>\n",
       "      <td>1.000000</td>\n",
       "    </tr>\n",
       "    <tr>\n",
       "      <th>25%</th>\n",
       "      <td>215.000000</td>\n",
       "      <td>2001.000000</td>\n",
       "      <td>1936.000000</td>\n",
       "      <td>47.000000</td>\n",
       "      <td>0.000000e+00</td>\n",
       "      <td>1.400000</td>\n",
       "    </tr>\n",
       "    <tr>\n",
       "      <th>50%</th>\n",
       "      <td>430.000000</td>\n",
       "      <td>2014.000000</td>\n",
       "      <td>1963.000000</td>\n",
       "      <td>59.000000</td>\n",
       "      <td>0.000000e+00</td>\n",
       "      <td>2.000000</td>\n",
       "    </tr>\n",
       "    <tr>\n",
       "      <th>75%</th>\n",
       "      <td>988.000000</td>\n",
       "      <td>2014.000000</td>\n",
       "      <td>1985.000000</td>\n",
       "      <td>70.000000</td>\n",
       "      <td>7.250000e+11</td>\n",
       "      <td>3.500000</td>\n",
       "    </tr>\n",
       "    <tr>\n",
       "      <th>max</th>\n",
       "      <td>1565.000000</td>\n",
       "      <td>2014.000000</td>\n",
       "      <td>2012.000000</td>\n",
       "      <td>98.000000</td>\n",
       "      <td>1.060000e+13</td>\n",
       "      <td>76.000000</td>\n",
       "    </tr>\n",
       "  </tbody>\n",
       "</table>\n",
       "</div>"
      ],
      "text/plain": [
       "              rank         year  company.founded  demographics.age  \\\n",
       "count  2614.000000  2614.000000      2614.000000       2614.000000   \n",
       "mean    599.672533  2008.411630      1924.711936         53.341239   \n",
       "std     467.885695     7.483598       243.776546         25.333320   \n",
       "min       1.000000  1996.000000         0.000000        -42.000000   \n",
       "25%     215.000000  2001.000000      1936.000000         47.000000   \n",
       "50%     430.000000  2014.000000      1963.000000         59.000000   \n",
       "75%     988.000000  2014.000000      1985.000000         70.000000   \n",
       "max    1565.000000  2014.000000      2012.000000         98.000000   \n",
       "\n",
       "       location.gdp  wealth.worth in billions  \n",
       "count  2.614000e+03               2614.000000  \n",
       "mean   1.769103e+12                  3.531943  \n",
       "std    3.547083e+12                  5.088813  \n",
       "min    0.000000e+00                  1.000000  \n",
       "25%    0.000000e+00                  1.400000  \n",
       "50%    0.000000e+00                  2.000000  \n",
       "75%    7.250000e+11                  3.500000  \n",
       "max    1.060000e+13                 76.000000  "
      ]
     },
     "execution_count": 12,
     "metadata": {},
     "output_type": "execute_result"
    }
   ],
   "source": [
    "# Print out summary statistics about the dataframe\n",
    "df.describe()"
   ]
  },
  {
   "cell_type": "code",
   "execution_count": 15,
   "id": "9b5dfabd-61b3-4cda-80d4-7a20444afa25",
   "metadata": {},
   "outputs": [
    {
     "data": {
      "text/plain": [
       "0           Bill Gates\n",
       "1           Bill Gates\n",
       "2           Bill Gates\n",
       "3       Warren Buffett\n",
       "4       Warren Buffett\n",
       "             ...      \n",
       "2609       Wu Chung-Yi\n",
       "2610          Wu Xiong\n",
       "2611         Yang Keng\n",
       "2612     Zdenek Bakala\n",
       "2613       Zhu Wenchen\n",
       "Name: name, Length: 2614, dtype: object"
      ]
     },
     "execution_count": 15,
     "metadata": {},
     "output_type": "execute_result"
    }
   ],
   "source": [
    "# Choose a column and print out the column (it's ok if the output is abbreviated)\n",
    "df['name']"
   ]
  },
  {
   "cell_type": "code",
   "execution_count": 19,
   "id": "0c5e2c07-0dff-4e78-bbb7-8faef3fdf758",
   "metadata": {},
   "outputs": [
    {
     "data": {
      "text/plain": [
       "<AxesSubplot:>"
      ]
     },
     "execution_count": 19,
     "metadata": {},
     "output_type": "execute_result"
    },
    {
     "data": {
      "image/png": "[encoded data removed]",
      "text/plain": [
       "<Figure size 432x288 with 1 Axes>"
      ]
     },
     "metadata": {
      "needs_background": "light"
     },
     "output_type": "display_data"
    }
   ],
   "source": [
    "# Choose a column that has numeric values and make a line plot of the values\n",
    "df[\"rank\"].plot(kind='line')"
   ]
  },
  {
   "cell_type": "code",
   "execution_count": 20,
   "id": "6e7c7f92-3b6c-4cd0-a9ef-6356cb4c2ca5",
   "metadata": {},
   "outputs": [
    {
     "data": {
      "text/html": [
       "<div>\n",
       "<style scoped>\n",
       "    .dataframe tbody tr th:only-of-type {\n",
       "        vertical-align: middle;\n",
       "    }\n",
       "\n",
       "    .dataframe tbody tr th {\n",
       "        vertical-align: top;\n",
       "    }\n",
       "\n",
       "    .dataframe thead th {\n",
       "        text-align: right;\n",
       "    }\n",
       "</style>\n",
       "<table border=\"1\" class=\"dataframe\">\n",
       "  <thead>\n",
       "    <tr style=\"text-align: right;\">\n",
       "      <th></th>\n",
       "      <th>rank</th>\n",
       "    </tr>\n",
       "  </thead>\n",
       "  <tbody>\n",
       "    <tr>\n",
       "      <th>0</th>\n",
       "      <td>1</td>\n",
       "    </tr>\n",
       "    <tr>\n",
       "      <th>1</th>\n",
       "      <td>1</td>\n",
       "    </tr>\n",
       "    <tr>\n",
       "      <th>2</th>\n",
       "      <td>1</td>\n",
       "    </tr>\n",
       "    <tr>\n",
       "      <th>3</th>\n",
       "      <td>2</td>\n",
       "    </tr>\n",
       "    <tr>\n",
       "      <th>4</th>\n",
       "      <td>2</td>\n",
       "    </tr>\n",
       "    <tr>\n",
       "      <th>5</th>\n",
       "      <td>2</td>\n",
       "    </tr>\n",
       "    <tr>\n",
       "      <th>6</th>\n",
       "      <td>3</td>\n",
       "    </tr>\n",
       "    <tr>\n",
       "      <th>7</th>\n",
       "      <td>3</td>\n",
       "    </tr>\n",
       "    <tr>\n",
       "      <th>8</th>\n",
       "      <td>3</td>\n",
       "    </tr>\n",
       "    <tr>\n",
       "      <th>9</th>\n",
       "      <td>4</td>\n",
       "    </tr>\n",
       "    <tr>\n",
       "      <th>10</th>\n",
       "      <td>4</td>\n",
       "    </tr>\n",
       "  </tbody>\n",
       "</table>\n",
       "</div>"
      ],
      "text/plain": [
       "    rank\n",
       "0      1\n",
       "1      1\n",
       "2      1\n",
       "3      2\n",
       "4      2\n",
       "5      2\n",
       "6      3\n",
       "7      3\n",
       "8      3\n",
       "9      4\n",
       "10     4"
      ]
     },
     "execution_count": 20,
     "metadata": {},
     "output_type": "execute_result"
    }
   ],
   "source": [
    "# Use \"loc\" to print out the first 10 elements of the plotted column\n",
    "df.loc[:10, ['rank']]"
   ]
  },
  {
   "cell_type": "code",
   "execution_count": 21,
   "id": "3a7b0251-f9e3-4f81-858d-d6c1c2b41e2d",
   "metadata": {},
   "outputs": [
    {
     "data": {
      "text/html": [
       "<div>\n",
       "<style scoped>\n",
       "    .dataframe tbody tr th:only-of-type {\n",
       "        vertical-align: middle;\n",
       "    }\n",
       "\n",
       "    .dataframe tbody tr th {\n",
       "        vertical-align: top;\n",
       "    }\n",
       "\n",
       "    .dataframe thead th {\n",
       "        text-align: right;\n",
       "    }\n",
       "</style>\n",
       "<table border=\"1\" class=\"dataframe\">\n",
       "  <thead>\n",
       "    <tr style=\"text-align: right;\">\n",
       "      <th></th>\n",
       "      <th>rank</th>\n",
       "      <th>name</th>\n",
       "    </tr>\n",
       "  </thead>\n",
       "  <tbody>\n",
       "    <tr>\n",
       "      <th>0</th>\n",
       "      <td>1</td>\n",
       "      <td>Bill Gates</td>\n",
       "    </tr>\n",
       "    <tr>\n",
       "      <th>1</th>\n",
       "      <td>1</td>\n",
       "      <td>Bill Gates</td>\n",
       "    </tr>\n",
       "    <tr>\n",
       "      <th>2</th>\n",
       "      <td>1</td>\n",
       "      <td>Bill Gates</td>\n",
       "    </tr>\n",
       "    <tr>\n",
       "      <th>3</th>\n",
       "      <td>2</td>\n",
       "      <td>Warren Buffett</td>\n",
       "    </tr>\n",
       "    <tr>\n",
       "      <th>4</th>\n",
       "      <td>2</td>\n",
       "      <td>Warren Buffett</td>\n",
       "    </tr>\n",
       "    <tr>\n",
       "      <th>5</th>\n",
       "      <td>2</td>\n",
       "      <td>Carlos Slim Helu</td>\n",
       "    </tr>\n",
       "    <tr>\n",
       "      <th>6</th>\n",
       "      <td>3</td>\n",
       "      <td>Oeri Hoffman and Sacher</td>\n",
       "    </tr>\n",
       "    <tr>\n",
       "      <th>7</th>\n",
       "      <td>3</td>\n",
       "      <td>Paul Allen</td>\n",
       "    </tr>\n",
       "    <tr>\n",
       "      <th>8</th>\n",
       "      <td>3</td>\n",
       "      <td>Amancio Ortega</td>\n",
       "    </tr>\n",
       "    <tr>\n",
       "      <th>9</th>\n",
       "      <td>4</td>\n",
       "      <td>Lee Shau Kee</td>\n",
       "    </tr>\n",
       "    <tr>\n",
       "      <th>10</th>\n",
       "      <td>4</td>\n",
       "      <td>Larry Ellison</td>\n",
       "    </tr>\n",
       "  </tbody>\n",
       "</table>\n",
       "</div>"
      ],
      "text/plain": [
       "    rank                     name\n",
       "0      1               Bill Gates\n",
       "1      1               Bill Gates\n",
       "2      1               Bill Gates\n",
       "3      2           Warren Buffett\n",
       "4      2           Warren Buffett\n",
       "5      2         Carlos Slim Helu\n",
       "6      3  Oeri Hoffman and Sacher\n",
       "7      3               Paul Allen\n",
       "8      3           Amancio Ortega\n",
       "9      4             Lee Shau Kee\n",
       "10     4            Larry Ellison"
      ]
     },
     "execution_count": 21,
     "metadata": {},
     "output_type": "execute_result"
    }
   ],
   "source": [
    "# Use \"loc\" to print out the first 10 elements of the plotted column\n",
    "# as well as the matching 10 elements of a different column that has interesting text\n",
    "df.loc[:10, ['rank', 'name']]\n"
   ]
  },
  {
   "cell_type": "code",
   "execution_count": 22,
   "id": "e2b2a59b-4246-40cc-b5de-728bd678b832",
   "metadata": {},
   "outputs": [
    {
     "data": {
      "text/plain": [
       "<AxesSubplot:xlabel='name'>"
      ]
     },
     "execution_count": 22,
     "metadata": {},
     "output_type": "execute_result"
    },
    {
     "data": {
      "image/png": "[encoded data removed]",
      "text/plain": [
       "<Figure size 432x288 with 1 Axes>"
      ]
     },
     "metadata": {
      "needs_background": "light"
     },
     "output_type": "display_data"
    }
   ],
   "source": [
    "# Assign the dataframe values from the previous cell into a new dataframe variable\n",
    "# and make a bar plot with the text values horizontally and the numeric values as the bar heights\n",
    "a = df.loc[:10, ['rank', 'name']]\n",
    "a.plot(kind=\"bar\", x='name', y='rank')"
   ]
  },
  {
   "cell_type": "code",
   "execution_count": 23,
   "id": "46120796-845a-49b3-997f-b44825e375ea",
   "metadata": {},
   "outputs": [
    {
     "data": {
      "text/plain": [
       "<AxesSubplot:ylabel='name'>"
      ]
     },
     "execution_count": 23,
     "metadata": {},
     "output_type": "execute_result"
    },
    {
     "data": {
      "image/png": "[encoded data removed]",
      "text/plain": [
       "<Figure size 432x288 with 1 Axes>"
      ]
     },
     "metadata": {
      "needs_background": "light"
     },
     "output_type": "display_data"
    }
   ],
   "source": [
    "# Re-do the plot from the previous cell as a horizontal bar plot\n",
    "a.plot(kind=\"barh\", x='name', y='rank')"
   ]
  },
  {
   "cell_type": "code",
   "execution_count": 31,
   "id": "c8273eab-a2d6-445a-a92d-869375b82428",
   "metadata": {},
   "outputs": [
    {
     "data": {
      "text/plain": [
       "<AxesSubplot:title={'center':'Rank of certain billionaires'}, ylabel='name'>"
      ]
     },
     "execution_count": 31,
     "metadata": {},
     "output_type": "execute_result"
    },
    {
     "data": {
      "image/png": "[encoded data removed]",
      "text/plain": [
       "<Figure size 432x288 with 1 Axes>"
      ]
     },
     "metadata": {
      "needs_background": "light"
     },
     "output_type": "display_data"
    }
   ],
   "source": [
    "# Re-do the plot from the previous cell\n",
    "# and change at least two aesthetic elements (colors, labels, titles, ...)\n",
    "a.plot(kind=\"barh\", x='name', y='rank', title='Rank of certain billionaires', fontsize=7, color='orange')"
   ]
  },
  {
   "cell_type": "markdown",
   "id": "48245e7e-c7b9-43ee-a8e2-d66502b899fc",
   "metadata": {},
   "source": [
    "# Free form section"
   ]
  },
  {
   "cell_type": "markdown",
   "id": "66503e37-f96a-4a25-aaf6-c7d8b9f8cbdd",
   "metadata": {},
   "source": [
    "* Choose another type of plot that interests you from the [pandas.DataFrame.plot documentation](https://pandas.pydata.org/docs/reference/api/pandas.DataFrame.plot.html#) [look at the 'kind' parameter] and make a new plot of your dataset values using the plot type"
   ]
  },
  {
   "cell_type": "code",
   "execution_count": 37,
   "id": "3fa0ce73-b09e-46a6-b1e7-2d68f2696f8d",
   "metadata": {},
   "outputs": [
    {
     "data": {
      "text/plain": [
       "<AxesSubplot:>"
      ]
     },
     "execution_count": 37,
     "metadata": {},
     "output_type": "execute_result"
    },
    {
     "data": {
      "image/png": "[encoded data removed]",
      "text/plain": [
       "<Figure size 432x288 with 1 Axes>"
      ]
     },
     "metadata": {
      "needs_background": "light"
     },
     "output_type": "display_data"
    }
   ],
   "source": [
    "df.plot(kind='area', y='rank')"
   ]
  },
  {
   "cell_type": "markdown",
   "id": "6eb40e90-d302-49d1-a8a3-ed406d9b984d",
   "metadata": {},
   "source": [
    "* Copy some of your analysis from the Week 2 assignment into new cells below\n",
    "* Clean them up if desired, and make sure that you translate them to work with your new pandas dataframe structure here if needed\n",
    "* Create several plots to complement and extend your analysis"
   ]
  },
  {
   "cell_type": "markdown",
   "id": "b97ac4f2-84bf-4382-a15e-3a169459a719",
   "metadata": {},
   "source": [
    "# Extension of Assignment 2\n",
    "\n",
    "In the previous assignment, I left off talking about the difference between how many billionaires there were in 1996 compared to the number \n",
    "of billionaires in 2014."
   ]
  },
  {
   "cell_type": "code",
   "execution_count": 45,
   "id": "b62277fc-7dbe-47f3-bc30-348ac88fd17d",
   "metadata": {},
   "outputs": [
    {
     "data": {
      "text/plain": [
       "<AxesSubplot:ylabel='year'>"
      ]
     },
     "execution_count": 45,
     "metadata": {},
     "output_type": "execute_result"
    },
    {
     "data": {
      "image/png": "[encoded data removed]",
      "text/plain": [
       "<Figure size 432x288 with 1 Axes>"
      ]
     },
     "metadata": {
      "needs_background": "light"
     },
     "output_type": "display_data"
    }
   ],
   "source": [
    "ninesix = df.loc[df['year'] == 1996]\n",
    "fourteen = df.loc[df['year'] == 2014]\n",
    "year_gap = {'year': [1996, 2014], 'billionaires': [len(ninesix), len(fourteen)]}\n",
    "gap_df = pd.DataFrame(data=year_gap)\n",
    "gap_df.plot(kind=\"barh\", x='year', y='billionaires')"
   ]
  },
  {
   "cell_type": "markdown",
   "id": "739777d3-8d07-4f5a-b472-cafdf6ad6869",
   "metadata": {},
   "source": [
    "From the above plot, we can see just how large the gap is between the amount of billionaires in 1996 compared to the amount of billionaires in 2014. We can further analyze this by looking at the overall wealth of these billionaires and how they have changed over time."
   ]
  },
  {
   "cell_type": "code",
   "execution_count": 49,
   "id": "cfd812ee-4f45-49c0-9737-d98622fb20b1",
   "metadata": {},
   "outputs": [
    {
     "data": {
      "text/plain": [
       "<AxesSubplot:xlabel='rank', ylabel='wealth.worth in billions'>"
      ]
     },
     "execution_count": 49,
     "metadata": {},
     "output_type": "execute_result"
    },
    {
     "data": {
      "image/png": "[encoded data removed]",
      "text/plain": [
       "<Figure size 432x288 with 1 Axes>"
      ]
     },
     "metadata": {
      "needs_background": "light"
     },
     "output_type": "display_data"
    }
   ],
   "source": [
    "colors = []\n",
    "for year in df['year']:\n",
    "    if year == 1996:\n",
    "        colors.append('orange')\n",
    "    elif year == 2001:\n",
    "        colors.append('blue')\n",
    "    else:\n",
    "        colors.append('purple')\n",
    "df.plot(kind=\"scatter\", x=\"rank\", y=\"wealth.worth in billions\", c=colors)"
   ]
  },
  {
   "cell_type": "markdown",
   "id": "d06cfdb7-6fa1-44ca-94ed-7e5b29c56100",
   "metadata": {},
   "source": [
    "From the previous scatterplot, we can see that the curve of these billionaires and their wealth stays the same, but over time there are just\n",
    "more billionaires and more wealth to go around. There are still loads of barely billionaires (1 billion dollars) but there is also a \n",
    "gradual increase in wealth at those in the top of the rankings."
   ]
  },
  {
   "cell_type": "code",
   "execution_count": null,
   "id": "806ddc0d-00d9-4c95-b146-ff8c215bc29c",
   "metadata": {},
   "outputs": [],
   "source": []
  }
 ],
 "metadata": {
  "kernelspec": {
   "display_name": "Python 3 (ipykernel)",
   "language": "python",
   "name": "python3"
  },
  "language_info": {
   "codemirror_mode": {
    "name": "ipython",
    "version": 3
   },
   "file_extension": ".py",
   "mimetype": "text/x-python",
   "name": "python",
   "nbconvert_exporter": "python",
   "pygments_lexer": "ipython3",
   "version": "3.9.6"
  }
 },
 "nbformat": 4,
 "nbformat_minor": 5
}
