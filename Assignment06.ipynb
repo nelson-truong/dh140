{
 "cells": [
  {
   "cell_type": "code",
   "execution_count": 31,
   "id": "b2c77cc2-caaf-46cc-97a9-afa4607d87e1",
   "metadata": {},
   "outputs": [
    {
     "name": "stderr",
     "output_type": "stream",
     "text": [
      "[nltk_data] Downloading package stopwords to /home/jovyan/nltk_data...\n",
      "[nltk_data]   Package stopwords is already up-to-date!\n",
      "[nltk_data] Downloading package vader_lexicon to\n",
      "[nltk_data]     /home/jovyan/nltk_data...\n",
      "[nltk_data]   Package vader_lexicon is already up-to-date!\n"
     ]
    },
    {
     "data": {
      "text/plain": [
       "True"
      ]
     },
     "execution_count": 31,
     "metadata": {},
     "output_type": "execute_result"
    }
   ],
   "source": [
    "import requests\n",
    "import nltk\n",
    "from nltk.corpus import stopwords\n",
    "from string import punctuation\n",
    "nltk.download('stopwords')\n",
    "from nltk.tokenize import word_tokenize, sent_tokenize\n",
    "from nltk.probability import FreqDist\n",
    "from bs4 import BeautifulSoup\n",
    "from nltk.sentiment import vader\n",
    "nltk.download('vader_lexicon')"
   ]
  },
  {
   "cell_type": "code",
   "execution_count": 32,
   "id": "4a06f080-5edc-4bc6-9040-a917c98221a1",
   "metadata": {},
   "outputs": [
    {
     "name": "stdout",
     "output_type": "stream",
     "text": [
      "'d 192\n",
      "'s 151\n",
      "macb 137\n",
      "haue 122\n",
      "thou 87\n",
      "enter 81\n",
      "shall 68\n",
      "macbeth 67\n",
      "thee 61\n",
      "vpon 59\n",
      "macd 58\n",
      "yet 57\n",
      "come 56\n",
      "thy 56\n",
      "vs 56\n",
      "time 54\n",
      "king 54\n",
      "hath 52\n",
      "may 51\n",
      "good 49\n"
     ]
    }
   ],
   "source": [
    "# Step 2\n",
    "\n",
    "# Grab the UTF-8 plain text for Macbeth from the Gutenberg Project\n",
    "plain_text = requests.get(\"https://www.gutenberg.org/ebooks/2264.txt.utf-8\").text\n",
    "\n",
    "# Tokenize that text into words\n",
    "# Lowercase all the words\n",
    "words = word_tokenize(plain_text.lower())\n",
    "\n",
    "# Create a new list with no punctuation or stopwords\n",
    "stop_words = stopwords.words(\"english\") + list(punctuation)\n",
    "filtered = [word for word in words if word not in stop_words]\n",
    "        \n",
    "# Find the frequency of all words and pick the top 20\n",
    "freq = FreqDist(filtered)\n",
    "for i in sorted(freq, key=freq.get, reverse=True)[:20]:\n",
    "    print(i,freq[i])"
   ]
  },
  {
   "cell_type": "markdown",
   "id": "c84d870b-e702-408e-85f1-7e80e05e3c60",
   "metadata": {},
   "source": [
    "# Meaning of most frequent words\n",
    "\n",
    "These words definitely do not give a good sense of what the play is about. It might tell someone that it involves a king but  \n",
    "it seems as though the tokenization and removal of stopwords still left in a lot of garble. This may be due to the fact that  \n",
    "Shakespeare wrote in Old English and it is hard for nltk to parse it properly."
   ]
  },
  {
   "cell_type": "code",
   "execution_count": 36,
   "id": "5a3ecc2c-198d-44bf-9391-630282a215b4",
   "metadata": {},
   "outputs": [
    {
     "name": "stdout",
     "output_type": "stream",
     "text": [
      "Yelp rating: 5 vs Vader: 0.9046\n",
      "Yelp rating: 4 vs Vader: 0.8883\n",
      "Yelp rating: 4 vs Vader: 0.9817\n",
      "Yelp rating: 3 vs Vader: -0.4098\n",
      "Yelp rating: 4 vs Vader: 0.25\n",
      "Yelp rating: 2 vs Vader: 0.5635\n",
      "Yelp rating: 5 vs Vader: 0.9666\n",
      "Yelp rating: 1 vs Vader: -0.9356\n",
      "Yelp rating: 2 vs Vader: 0.7964\n",
      "Yelp rating: 5 vs Vader: 0.9081\n",
      "Yelp rating: 3 vs Vader: 0.0534\n",
      "Yelp rating: 5 vs Vader: 0.4124\n",
      "Yelp rating: 5 vs Vader: 0.6369\n",
      "Yelp rating: 5 vs Vader: 0.0341\n",
      "Yelp rating: 1 vs Vader: -0.2278\n"
     ]
    }
   ],
   "source": [
    "# Step 3:\n",
    "\n",
    "# Yelp reviews for Lamonica's NY Pizza\n",
    "reviews = [\n",
    "\"When it comes to the Pizza Wars in Westwood, Lamonica's gets my vote. Their pizza is PERFECT. I've had both the cheese and sausage and I could eat both of these slices multiple times a week. Prices are reasonable and they had a fantastic deal on their anniversary this year. I'm a UCLA student and am always excited when I attend events where Lamonica's pizza is served! There is limited seating, so if you can't find a place to sit and eat, I would recommend parking in the Broxton parking lot to pick up your pizza and then heading home to enjoy it!\",\n",
    "\"If you're looking for a pizza place in westwood, I think this is THE PLACE to go. Their pizza is made on the spot, and is sooo delish! We ordered a large 18\\\" cheese pizza for lunch, and it was enough to fill 3 people even after a 6 hour drive from NorCal. Our order took about 10 minutes to be ready. The cheesiness, the crust, the flavor, everything was basically perfect. The pizza wasn't too greasy, the crust was super soft and chewy, and the pizza wasn't paper thin. Although I've never had NY pizza from NY, if this is what it's like, then I need to book myself a flight to NY ASAP. In terms of local UCLA pizza wars, this place is a little pricey, but if you're looking for premium pizza and the ultimate winner of pizza, this is the place to go.\",\n",
    "\"Came here on the day listed in the picture after hearing about cheap food and shared an entire pie with a friend who I went with.  TLDR:  definitely worth it for the $7 we paid but I don't think I'd come here at the regular price. Pros: Pizza was definitely New York style Could see the new dough proofing so it's clear that they make their own dough Adequate amount of sauce Some burnt bits on the bottom. Yum Close to UCLA campus Cons: Normal price for just a cheese pizza is like $20?? Toppings jack up the price like crazy Overall, definitely good New York style pizza but not pizza from New York kinda good.  Worth a visit if you're missing it but not if you're looking for a cheap eat.\",\n",
    "\"Very expensive and not as good as real new york pizza. We got the lunch special so it was cheaper but just Nothing Special.\",\n",
    "\"Tried the mixed meat and pepperoni pizza, both were good. Like all pizza, a little greasy. Had some flop, but not a lot. Situated near UCLA in Westwood Villiage.\",\n",
    "\"Pizza was good. I give high marks for The za. However, an employee asked uniformed police officers for their vax cards. They laughed and walked out, bravo. I cannot support a place that pushes the unconstitutional bs of vax cards.\",\n",
    "\"Only the best. Been going to Lamonica's NY Pizza since 1992 and I consider it the best. They actually fly-in the dough from New York. Since it's by the slice, it's always ready. My favorite is sausage because it tastes amazing. Pepperoni is also good.\",\n",
    "\"I have been ordering pizzas from LaMonicas for nearly 15 years. This was the worst experience I have had by far. The manager was extremely rude, would not take care of my request to remake the pizza I ordered. The pizza was over cooked and had extremely thin and flat crust; not a nice sizable crust like they usually make them. He kept repeating that this is the way their pizzas always are (they were not) and when I told him that the customer is right, he told me not at their establishment! He ignored me and was rude to no end. I was calm and did not deserve that treatment and honestly I am still shocked at how rude he was being. Do not give them your business. There are many other places with good pizza that would treat their customers with care.\",\n",
    "\"I've been coming to Lamonicas since it opened and it was consistently good. Maybe there is a new owner or manager because the quality last night was disappointing.  The cheese slice I ordered was stiff and had burn marks on the bottom.  It's the same sensation as eating cardboard.  When i asked for a different slice that didn't crunch when you eat it the cashier told me the pizzas are cooked that way now and another slice wouldn't be any different.  I also ordered garlic knots that were burned on the top and too tough inside to eat.  They went to the trash. I hope this was an \\\"off night\\\". It used to be the best pizza in Westwood.\",\n",
    "\"If you are looking for a classic NY pizza slice, I would recommend Lamonica's. They've been around for quite some time and still live up to their name. Their pizzas are well proportioned and not too heavy. This place is great for a quick, delicious slice.\",\n",
    "\"Got the veggie and cheese pizza here for lunch and I was very disappointed. For the veggie pizza everything completely fell off the pizza the veggies and cheese which was disappointing. It was also very dry and the crust was tuff. The only positive comment I would have to say is that the tomatoes sauce did have flavor that elevated the pizza and the portion sizes were big. If it weren't for the tomatoes sauce I don't think I would have eaten it. I do want to try the Sicilian pizza however and see if it's any better\",\n",
    "\"Extraordinary pizza here. Tastes just like New York City. I think this is the best NY style pizza in LA. Seating is very limited and so is parking since it's located in the middle of Westwood, but the pizza comes out fast.\",\n",
    "\"Out of all the places that claim they have New York pizza, this establishment is the truth hands down. Thanks to Lorena I am a frequent customer since she told me about this location. The pizza here is exactly the same pizza I get from New York & the staff here are the real MVP.\",\n",
    "\"Man why haven't I tried this pizza place before? I have lived in California my entire life and have never been here, if you live in area or traveling back from airport stop here you won't regret it.\",\n",
    "\"For weeks, Lamonica's had flyers up about anniversary specials today on October 19, including 3 topping pizzas for $10. I went in today, October 19, to find they were going to charge me $16 and change for a 3 topping pizza with meatball, olive, and mushroom. They added a sheet that said that any non-pepperoni, mushroom, or sausage topping would be around an additional $3. Are customers supposed to visit the business every single day to find out about these additional costs being added to the alleged special just because it was nowhere in the flyer that had been up for weeks. There was no reason to get the 3 topping pizza I ordered because of this. This is deceptive and not a good way to do business.\"\n",
    "]\n",
    "ratings = [5, 4, 4, 3, 4, 2, 5, 1, 2, 5, 3, 5, 5, 5, 1]\n",
    "\n",
    "# Use Vader to find polarity of each review\n",
    "sia = vader.SentimentIntensityAnalyzer()\n",
    "polarity = [sia.polarity_scores(review) for review in reviews]\n",
    "for rating, polar in zip(ratings, polarity):\n",
    "    print(\"Yelp rating: \" + str(rating) + \" vs Vader: \" + str(polar['compound']))"
   ]
  },
  {
   "cell_type": "code",
   "execution_count": 37,
   "id": "033a3036-32c7-41df-80d6-d3042243bf28",
   "metadata": {},
   "outputs": [
    {
     "name": "stdout",
     "output_type": "stream",
     "text": [
      "Collecting gensim\n",
      "  Downloading gensim-4.1.2-cp39-cp39-manylinux_2_12_x86_64.manylinux2010_x86_64.whl (24.0 MB)\n",
      "\u001b[K     |████████████████████████████████| 24.0 MB 14.2 MB/s eta 0:00:01\n",
      "\u001b[?25hRequirement already satisfied: scipy>=0.18.1 in /opt/conda/lib/python3.9/site-packages (from gensim) (1.7.1)\n",
      "Collecting smart-open>=1.8.1\n",
      "  Downloading smart_open-5.2.1-py3-none-any.whl (58 kB)\n",
      "\u001b[K     |████████████████████████████████| 58 kB 2.1 MB/s  eta 0:00:01\n",
      "\u001b[?25hRequirement already satisfied: numpy>=1.17.0 in /opt/conda/lib/python3.9/site-packages (from gensim) (1.20.3)\n",
      "Installing collected packages: smart-open, gensim\n",
      "Successfully installed gensim-4.1.2 smart-open-5.2.1\n",
      "{'computer-anim': 0, 'east': 1, 'far': 2, 'fu': 3, 'kung': 4, 'look': 5, 'movi': 6, 'novel': 7, 'panda': 8, 'perhap': 9, 'pleas': 10, 'seen': 11, 'someth': 12, 'vintag': 13, 'world': 14, 'come': 15, 'credit': 16, 'film': 17, 'flaw': 18, 'focu': 19, 'guilti': 20, 'kung-fu': 21, 'last': 22, 'mani': 23, 'roll': 24, 'sharpli': 25, 'treat': 26, 'ancient': 27, 'anim': 28, 'dazzl': 29, 'detail': 30, 'hand-drawn': 31, 'like': 32, 'lovingli': 33, 'open': 34, 'overdon': 35, 'particularli': 36, 'print': 37, 'sequenc': 38, 'struck': 39, 'without': 40, 'woodblock': 41, 'work': 42, 'action': 43, 'animal-bash': 44, 'bruce': 45, 'certain': 46, 'charm': 47, 'collector': 48, 'figur': 49, 'first': 50, 'give': 51, 'idea': 52, 'indol': 53, 'lee': 54, 'never': 55, 'see': 56, 'sermonis': 57, 'slug': 58, 'turn': 59, 'although': 60, 'beat': 61, 'cooki': 62, 'could': 63, 'entertain': 64, 'fit': 65, 'fortun': 66, 'manag': 67, 'parent': 68, 'sit': 69, 'teach': 70, 'wo': 71, '1': 72, 'agreeabl': 73, 'atop': 74, 'breakthrough': 75, 'damon': 76, 'deliv': 77, 'directli': 78, 'earn': 79, 'grisham': 80, 'headlin': 81, 'high-profil': 82, 'honestli': 83, 'john': 84, 'matt': 85, 'perform': 86, 'rainmak': 87, 'sentiment': 88, 'slice': 89, 'stori': 90, 'year': 91, 'anoth': 92, 'anyth': 93, 'bound': 94, 'captur': 95, 'charact': 96, 'convey': 97, 'cynic': 98, 'limitless': 99, 'noth': 100, 'older': 101, 'possibl': 102, 'screenwrit': 103, 'tell': 104, 'want': 105, 'way': 106, 'youth': 107, 'best': 108, 'funni': 109, 'good': 110, 'heartbreak': 111, 'human': 112, 'hunt': 113, 'just-plain': 114, 'life': 115, 'messi': 116, 'psycholog': 117, 'ring': 118, 'rowdi': 119, 'symmetri': 120, 'thing': 121, 'well-craft': 122, 'address': 123, 'approach': 124, 'chord': 125, 'class': 126, 'creativ': 127, 'drama': 128, 'elev': 129, 'geniu': 130, 'graduat': 131, 'may': 132, 'need': 133, 'result': 134, 'therapeut': 135, 'touch': 136, 'tower': 137, 'troubl': 138, 'viewer': 139, 'young': 140, 'zeitgeist': 141, 'affleck': 142, 'ben': 143, 'bicker': 144, 'brother': 145, 'childhood': 146, 'friendship-chemistri': 147, 'gener': 148, 'hilari': 149, 'magic': 150, 'mention': 151, 'real-lif': 152, 'robin': 153, 'william': 154, 'writer-star': 155}\n"
     ]
    }
   ],
   "source": [
    "# Step 4:\n",
    "\n",
    "# Reviews for Kung Fu Panda and Good Will Hunting from Rotten Tomatoes\n",
    "movie_reviews = [\n",
    "\"There's something about the look of Kung Fu Panda that is so novel and pleasing. Perhaps it's just that we haven't seen this vintage, Far East world in a computer-animated movie before.\",\n",
    "\"As the credits roll, the film's many flaws come sharply into focus. But while it lasts, Kung-Fu Panda is something of a guilty treat.\",\n",
    "\"The animation work is dazzling; it's lovingly detailed without being overdone (particularly the opening sequence, which is hand-drawn and looks like prints struck from ancient woodblocks).\",\n",
    "\"It's not the first or the last film to sermonise the idea of \\\"never giving up,\\\" but there is a certain charm in seeing a collector of action figures, an indolent slug, turn into an animal-bashing Bruce Lee.\",\n",
    "\"Manages to entertain and dazzle, and parents won't beat themselves up for sitting through it, although what it teaches could fit on a fortune cookie.\",\n",
    "\"The headline story from this slice of honestly earned sentiment is Matt Damon, who delivers the year's No. 1 breakthrough performance directly atop his agreeable high-profile turn in John Grisham's The Rainmaker.\",\n",
    "\"It's a movie that captures (in a way that perhaps an older screenwriter could not convey) the limitless possibilities of youth, a movie in which a character can tell another, without cynicism, \\\"You could do anything you want. You are bound by nothing.\\\"\",\n",
    "\"The best thing about Good Will Hunting is not in its well-crafted, psychological symmetries but in the just-plain messiness of its humanity. It's rowdy, it's funny, it's heartbreaking -- it rings of life.\",\n",
    "\"Towering performance by Matt Damon as a troubled working class who needs to address his creative genius elevates this drama way above its therapeutic approach, resulting in a zeitgeist film that may touch chord with young viewers the way The Graduate did\",\n",
    "\"It's writer-stars Matt Damon & Ben Affleck's childhood friendship-chemistry and the hilarious bickering between the real-life Affleck brothers that generates the magic in \\\"Good Will Hunting.\\\" Not to mention a magical performance by Robin Williams.\"\n",
    "]\n",
    "\n",
    "extrastop = ['``',\"''\",\"'re\",\"'s\",\"'re\",'``',\"''\",\"'ll\",\"--\",\"\\'\\'\",\"...\",\n",
    "             \"n\\'t\",'one','would','use','subject','from',\"\\'m\",\"\\'ve\"]\n",
    "\n",
    "myStopWords = list(punctuation) + stopwords.words('english') + extrastop\n",
    "\n",
    "listOfMovieWords = []\n",
    "for i in movie_reviews:\n",
    "    listOfMovieWords.append([w for w in word_tokenize(i.lower()) if w not in myStopWords])\n",
    "    \n",
    "from nltk.stem.porter import PorterStemmer\n",
    "\n",
    "p_stemmer = PorterStemmer()\n",
    "\n",
    "listOfStemmedWords = []\n",
    "for i in listOfMovieWords:\n",
    "    listOfStemmedWords.append([p_stemmer.stem(w) for w in i])\n",
    "    \n",
    "!pip install gensim\n",
    "\n",
    "from gensim import corpora, models\n",
    "import gensim\n",
    "\n",
    "dictionary = corpora.Dictionary(listOfStemmedWords)\n",
    "\n",
    "print(dictionary.token2id)"
   ]
  },
  {
   "cell_type": "code",
   "execution_count": 38,
   "id": "a8080f7d-3b26-410d-9bbc-59a35545a657",
   "metadata": {},
   "outputs": [
    {
     "ename": "IndexError",
     "evalue": "list index out of range",
     "output_type": "error",
     "traceback": [
      "\u001b[0;31m---------------------------------------------------------------------------\u001b[0m",
      "\u001b[0;31mIndexError\u001b[0m                                Traceback (most recent call last)",
      "\u001b[0;32m/tmp/ipykernel_200/3199558690.py\u001b[0m in \u001b[0;36m<module>\u001b[0;34m\u001b[0m\n\u001b[1;32m      1\u001b[0m \u001b[0mcorpus\u001b[0m \u001b[0;34m=\u001b[0m \u001b[0;34m[\u001b[0m\u001b[0mdictionary\u001b[0m\u001b[0;34m.\u001b[0m\u001b[0mdoc2bow\u001b[0m\u001b[0;34m(\u001b[0m\u001b[0mtext\u001b[0m\u001b[0;34m)\u001b[0m \u001b[0;32mfor\u001b[0m \u001b[0mtext\u001b[0m \u001b[0;32min\u001b[0m \u001b[0mlistOfStemmedWords\u001b[0m\u001b[0;34m]\u001b[0m\u001b[0;34m\u001b[0m\u001b[0;34m\u001b[0m\u001b[0m\n\u001b[1;32m      2\u001b[0m \u001b[0;34m\u001b[0m\u001b[0m\n\u001b[0;32m----> 3\u001b[0;31m \u001b[0mprint\u001b[0m\u001b[0;34m(\u001b[0m\u001b[0mcorpus\u001b[0m\u001b[0;34m[\u001b[0m\u001b[0;36m30\u001b[0m\u001b[0;34m]\u001b[0m\u001b[0;34m)\u001b[0m\u001b[0;34m\u001b[0m\u001b[0;34m\u001b[0m\u001b[0m\n\u001b[0m",
      "\u001b[0;31mIndexError\u001b[0m: list index out of range"
     ]
    }
   ],
   "source": [
    "corpus = [dictionary.doc2bow(text) for text in listOfStemmedWords]"
   ]
  },
  {
   "cell_type": "code",
   "execution_count": 40,
   "id": "f02380f4-1d2c-4c64-9478-6e7ba8d883d2",
   "metadata": {},
   "outputs": [
    {
     "name": "stdout",
     "output_type": "stream",
     "text": [
      "[(5, 1), (27, 1), (28, 1), (29, 1), (30, 1), (31, 1), (32, 1), (33, 1), (34, 1), (35, 1), (36, 1), (37, 1), (38, 1), (39, 1), (40, 1), (41, 1), (42, 1)]\n"
     ]
    }
   ],
   "source": [
    "print(corpus[2])"
   ]
  },
  {
   "cell_type": "code",
   "execution_count": 41,
   "id": "e9b398c7-2ce3-413e-90a9-55c94fc0c796",
   "metadata": {},
   "outputs": [
    {
     "name": "stdout",
     "output_type": "stream",
     "text": [
      "68\n"
     ]
    }
   ],
   "source": [
    "print(dictionary.token2id['parent'])"
   ]
  },
  {
   "cell_type": "code",
   "execution_count": 42,
   "id": "db925bdf-adfa-4dbb-a1d9-adc05a48438b",
   "metadata": {},
   "outputs": [],
   "source": [
    "ldamodel = gensim.models.ldamodel.LdaModel(corpus, \n",
    "                                           num_topics=2, \n",
    "                                           id2word = dictionary, \n",
    "                                           passes=20)"
   ]
  },
  {
   "cell_type": "code",
   "execution_count": 44,
   "id": "eeb3f04b-d78f-41ef-9fb3-9451618da5df",
   "metadata": {},
   "outputs": [
    {
     "name": "stdout",
     "output_type": "stream",
     "text": [
      "(0, '0.017*\"movi\" + 0.017*\"could\" + 0.017*\"without\" + 0.010*\"perhap\" + 0.010*\"look\" + 0.010*\"panda\" + 0.010*\"someth\" + 0.010*\"dazzl\" + 0.010*\"hunt\" + 0.010*\"good\" + 0.010*\"last\" + 0.010*\"work\" + 0.010*\"convey\" + 0.010*\"screenwrit\" + 0.010*\"noth\" + 0.010*\"anoth\" + 0.010*\"want\" + 0.010*\"captur\" + 0.010*\"anyth\" + 0.010*\"charact\"')\n",
      "(1, '0.018*\"damon\" + 0.018*\"perform\" + 0.018*\"matt\" + 0.013*\"film\" + 0.013*\"way\" + 0.013*\"magic\" + 0.013*\"affleck\" + 0.013*\"turn\" + 0.008*\"therapeut\" + 0.008*\"young\" + 0.008*\"zeitgeist\" + 0.008*\"need\" + 0.008*\"geniu\" + 0.008*\"tower\" + 0.008*\"drama\" + 0.008*\"chord\" + 0.008*\"graduat\" + 0.008*\"may\" + 0.008*\"elev\" + 0.008*\"result\"')\n"
     ]
    }
   ],
   "source": [
    "for i in ldamodel.print_topics(num_topics=2, num_words=20):\n",
    "    print(i)"
   ]
  },
  {
   "cell_type": "markdown",
   "id": "f8f5e6cc-a2b2-4a92-abef-aa997666b6b9",
   "metadata": {},
   "source": [
    "# LDA Words Split\n",
    "\n",
    "These words absolutely represent the split that I had for reviews of Kung Fu Panda vs Good Will Hunting. The fact that topic 1 contains the words panda, capture, dazzle, and screenwriting kind of hints to the fact that critics raved about how Kung Fu Panda had done extremely well when it came to bringing cartoon characters and animals such as a panda to life. Topic 2 also had mentioned many things about actors Ben Affleck and Matt Damon as well as the previous movie that Matt Damon had which was The Graduate."
   ]
  },
  {
   "cell_type": "code",
   "execution_count": null,
   "id": "89e9e1d5-2d02-41df-8ac7-355303070a11",
   "metadata": {},
   "outputs": [],
   "source": []
  }
 ],
 "metadata": {
  "kernelspec": {
   "display_name": "Python 3 (ipykernel)",
   "language": "python",
   "name": "python3"
  },
  "language_info": {
   "codemirror_mode": {
    "name": "ipython",
    "version": 3
   },
   "file_extension": ".py",
   "mimetype": "text/x-python",
   "name": "python",
   "nbconvert_exporter": "python",
   "pygments_lexer": "ipython3",
   "version": "3.9.6"
  }
 },
 "nbformat": 4,
 "nbformat_minor": 5
}
